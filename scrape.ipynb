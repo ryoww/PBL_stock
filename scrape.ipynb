{
 "cells": [
  {
   "cell_type": "code",
   "execution_count": 33,
   "metadata": {},
   "outputs": [],
   "source": [
    "from selenium import webdriver\n",
    "from selenium.webdriver.chrome.options import Options\n",
    "from selenium.webdriver.common.by import By\n",
    "from selenium.webdriver.support.ui import WebDriverWait\n",
    "from selenium.webdriver.support import expected_conditions as EC\n",
    "from selenium.common.exceptions import NoSuchElementException, TimeoutException\n",
    "\n",
    "import time\n",
    "import json\n",
    "from datetime import datetime\n",
    "\n",
    "\n",
    "from bs4 import BeautifulSoup\n",
    "from key import sbi_id, sbi_pass\n"
   ]
  },
  {
   "cell_type": "code",
   "execution_count": 34,
   "metadata": {},
   "outputs": [],
   "source": [
    "options = Options()\n",
    "\n",
    "options.add_experimental_option(\"detach\", True)\n",
    "\n",
    "options.add_argument(\"user-agent=Mozilla/5.0 (Windows NT 10.0; Win64; x64) AppleWebKit/537.36 (KHTML, like Gecko) Chrome/58.0.3029.110 Safari/537.36\")\n",
    "\n",
    "\n",
    "driver = webdriver.Chrome(options=options)\n",
    "\n",
    "driver.get(\"https://www.sbisec.co.jp/ETGate\")\n",
    "\n",
    "id_input = driver.find_element(By.NAME, \"user_id\")\n",
    "# time.sleep(1)\n",
    "id_input.send_keys(sbi_id)\n",
    "\n",
    "pass_input = driver.find_element(By.NAME, \"user_password\")\n",
    "# time.sleep(1)\n",
    "pass_input.send_keys(sbi_pass)\n",
    "\n",
    "driver.find_element(By.NAME, \"ACT_login\").click()"
   ]
  },
  {
   "cell_type": "code",
   "execution_count": 35,
   "metadata": {},
   "outputs": [],
   "source": [
    "driver.get(\"https://global.sbisec.co.jp/home\")"
   ]
  },
  {
   "cell_type": "code",
   "execution_count": 36,
   "metadata": {},
   "outputs": [],
   "source": [
    "driver.find_element(By.XPATH, r'//*[@id=\"root\"]/main/article/div[1]/div[2]/a[2]').click()"
   ]
  },
  {
   "cell_type": "code",
   "execution_count": 34,
   "metadata": {},
   "outputs": [],
   "source": [
    "# 現在のウィンドウハンドルを取得\n",
    "original_window = driver.current_window_handle\n",
    "\n",
    "# 新しいタブまたはウィンドウに切り替え\n",
    "new_window = [window for window in driver.window_handles if window != original_window][0]\n",
    "driver.switch_to.window(new_window)\n",
    "time.sleep(0.5)"
   ]
  },
  {
   "cell_type": "code",
   "execution_count": 37,
   "metadata": {},
   "outputs": [
    {
     "name": "stdout",
     "output_type": "stream",
     "text": [
      "['1F2D6582AA2131F3AFAD9E18500C03BB']\n"
     ]
    }
   ],
   "source": [
    "# print(original_window)\n",
    "# print(new_window)\n",
    "print(driver.window_handles)"
   ]
  },
  {
   "cell_type": "code",
   "execution_count": 38,
   "metadata": {},
   "outputs": [],
   "source": [
    "input_element = driver.find_element(By.CLASS_NAME, \"input-sm\")\n",
    "input_element.send_keys(\"エヌビディア\")\n",
    "time.sleep(0.3)"
   ]
  },
  {
   "cell_type": "code",
   "execution_count": 39,
   "metadata": {},
   "outputs": [],
   "source": [
    "search_button = driver.find_element(By.CSS_SELECTOR, \"button[data-ga-button='brandsearch']\")\n",
    "\n",
    "search_button.click()\n",
    "time.sleep(0.3)"
   ]
  },
  {
   "cell_type": "code",
   "execution_count": 40,
   "metadata": {},
   "outputs": [],
   "source": [
    "# 'ニュース'タブに対応するボタンを見つける\n",
    "news_tab = driver.find_element(By.CSS_SELECTOR, \"button[data-ga-tab='news']\")\n",
    "\n",
    "# ボタンをクリックする\n",
    "news_tab.click()\n",
    "time.sleep(0.3)"
   ]
  },
  {
   "cell_type": "code",
   "execution_count": 41,
   "metadata": {},
   "outputs": [
    {
     "data": {
      "text/plain": [
       "['https://graph.sbisec.co.jp/sbinews/pc?symbol=NVDA&token=2B190915464F701E96D35A6ECDAD7E72B59CFE5C62ECEA88B550B0577A601CDFAD7354196D554D6DD197D753C50398515815587FCC9D112691EC54CE251395ADB30CED6EB49F035689262E1EAA145760']"
      ]
     },
     "execution_count": 41,
     "metadata": {},
     "output_type": "execute_result"
    }
   ],
   "source": [
    "iframe = driver.page_source\n",
    "\n",
    "soup = BeautifulSoup(iframe, \"html.parser\")\n",
    "url_pattern = \"https://graph.sbisec.co.jp/sbinews/pc?\"\n",
    "\n",
    "# Search for iframes or similar tags that might contain the specified URL pattern\n",
    "iframe_urls = [iframe.get('src') for iframe in soup.find_all('iframe', src=True) if iframe['src'].startswith(url_pattern)]\n",
    "\n",
    "# Display the found URLs from iframes\n",
    "iframe_urls"
   ]
  },
  {
   "cell_type": "code",
   "execution_count": 42,
   "metadata": {},
   "outputs": [
    {
     "name": "stdout",
     "output_type": "stream",
     "text": [
      "https://graph.sbisec.co.jp/sbinews/pc?symbol=NVDA&token=2B190915464F701E96D35A6ECDAD7E72B59CFE5C62ECEA88B550B0577A601CDFAD7354196D554D6DD197D753C50398515815587FCC9D112691EC54CE251395ADB30CED6EB49F035689262E1EAA145760\n"
     ]
    }
   ],
   "source": [
    "print(iframe_urls[0])\n",
    "driver.execute_script(f\"window.open('{iframe_urls[0]}', '_blank');\")"
   ]
  },
  {
   "cell_type": "code",
   "execution_count": 43,
   "metadata": {},
   "outputs": [
    {
     "name": "stdout",
     "output_type": "stream",
     "text": [
      "['1F2D6582AA2131F3AFAD9E18500C03BB', '33F1141CF4AC5CB3123C123DB220D435']\n"
     ]
    }
   ],
   "source": [
    "print(driver.window_handles)"
   ]
  },
  {
   "cell_type": "code",
   "execution_count": 45,
   "metadata": {},
   "outputs": [],
   "source": [
    "# 現在のウィンドウハンドルを取得\n",
    "original_window = driver.current_window_handle\n",
    "\n",
    "# 新しいタブまたはウィンドウに切り替え\n",
    "# new_window = [window for window in driver.window_handles if window != original_window][1]\n",
    "new_window = driver.window_handles[1]\n",
    "driver.switch_to.window(new_window)\n",
    "time.sleep(0.5)"
   ]
  },
  {
   "cell_type": "code",
   "execution_count": 46,
   "metadata": {},
   "outputs": [
    {
     "name": "stdout",
     "output_type": "stream",
     "text": [
      "1F2D6582AA2131F3AFAD9E18500C03BB\n",
      "33F1141CF4AC5CB3123C123DB220D435\n",
      "['1F2D6582AA2131F3AFAD9E18500C03BB', '33F1141CF4AC5CB3123C123DB220D435']\n"
     ]
    }
   ],
   "source": [
    "print(original_window)\n",
    "print(new_window)\n",
    "print(driver.window_handles)"
   ]
  },
  {
   "cell_type": "code",
   "execution_count": 47,
   "metadata": {},
   "outputs": [],
   "source": [
    "prev_to_next_button = driver.find_element(By.CSS_SELECTOR, \"li.paginationjs-page.paginationjs-last.J-paginationjs-page a\")\n",
    "prev_to_next_button.click()\n"
   ]
  },
  {
   "cell_type": "code",
   "execution_count": 25,
   "metadata": {},
   "outputs": [],
   "source": [
    "# print(driver.page_source)"
   ]
  },
  {
   "cell_type": "code",
   "execution_count": 46,
   "metadata": {},
   "outputs": [
    {
     "name": "stdout",
     "output_type": "stream",
     "text": [
      "Error while collecting news data: Message: \n",
      "\n",
      "Waiting for the previous button to be clickable timed out. Trying again...\n",
      "Error while collecting news data: Message: \n",
      "\n",
      "Waiting for the previous button to be clickable timed out. Trying again...\n",
      "Error while collecting news data: Message: \n",
      "\n",
      "Waiting for the previous button to be clickable timed out. Trying again...\n"
     ]
    },
    {
     "ename": "KeyboardInterrupt",
     "evalue": "",
     "output_type": "error",
     "traceback": [
      "\u001b[1;31m---------------------------------------------------------------------------\u001b[0m",
      "\u001b[1;31mKeyboardInterrupt\u001b[0m                         Traceback (most recent call last)",
      "Cell \u001b[1;32mIn[46], line 41\u001b[0m\n\u001b[0;32m     37\u001b[0m             \u001b[38;5;28;01mbreak\u001b[39;00m\n\u001b[0;32m     39\u001b[0m     \u001b[38;5;28;01mreturn\u001b[39;00m all_news_data\n\u001b[1;32m---> 41\u001b[0m collected_data \u001b[38;5;241m=\u001b[39m \u001b[43mnavigate_and_collect\u001b[49m\u001b[43m(\u001b[49m\u001b[43mdriver\u001b[49m\u001b[43m)\u001b[49m\n\u001b[0;32m     43\u001b[0m \u001b[38;5;66;03m# 収集したデータをJSONファイルに保存\u001b[39;00m\n\u001b[0;32m     44\u001b[0m today_date \u001b[38;5;241m=\u001b[39m datetime\u001b[38;5;241m.\u001b[39mnow()\u001b[38;5;241m.\u001b[39mstrftime(\u001b[38;5;124m\"\u001b[39m\u001b[38;5;124m%\u001b[39m\u001b[38;5;124mY-\u001b[39m\u001b[38;5;124m%\u001b[39m\u001b[38;5;124mm-\u001b[39m\u001b[38;5;132;01m%d\u001b[39;00m\u001b[38;5;124m\"\u001b[39m)\n",
      "Cell \u001b[1;32mIn[46], line 22\u001b[0m, in \u001b[0;36mnavigate_and_collect\u001b[1;34m(driver)\u001b[0m\n\u001b[0;32m     19\u001b[0m all_news_data \u001b[38;5;241m=\u001b[39m []\n\u001b[0;32m     21\u001b[0m \u001b[38;5;28;01mwhile\u001b[39;00m \u001b[38;5;28;01mTrue\u001b[39;00m:\n\u001b[1;32m---> 22\u001b[0m     new_data \u001b[38;5;241m=\u001b[39m \u001b[43mcollect_news_data\u001b[49m\u001b[43m(\u001b[49m\u001b[43mdriver\u001b[49m\u001b[43m,\u001b[49m\u001b[43m \u001b[49m\u001b[43mwait\u001b[49m\u001b[43m)\u001b[49m\n\u001b[0;32m     23\u001b[0m     all_news_data\u001b[38;5;241m.\u001b[39mextend(new_data)\n\u001b[0;32m     25\u001b[0m     \u001b[38;5;28;01mtry\u001b[39;00m:\n",
      "Cell \u001b[1;32mIn[46], line 7\u001b[0m, in \u001b[0;36mcollect_news_data\u001b[1;34m(driver, wait)\u001b[0m\n\u001b[0;32m      5\u001b[0m \u001b[38;5;28;01mfor\u001b[39;00m item \u001b[38;5;129;01min\u001b[39;00m \u001b[38;5;28mreversed\u001b[39m(news_items):\n\u001b[0;32m      6\u001b[0m     item\u001b[38;5;241m.\u001b[39mclick()\n\u001b[1;32m----> 7\u001b[0m     \u001b[43mwait\u001b[49m\u001b[38;5;241;43m.\u001b[39;49m\u001b[43muntil\u001b[49m\u001b[43m(\u001b[49m\u001b[43mEC\u001b[49m\u001b[38;5;241;43m.\u001b[39;49m\u001b[43mvisibility_of_element_located\u001b[49m\u001b[43m(\u001b[49m\u001b[43m(\u001b[49m\u001b[43mBy\u001b[49m\u001b[38;5;241;43m.\u001b[39;49m\u001b[43mCLASS_NAME\u001b[49m\u001b[43m,\u001b[49m\u001b[43m \u001b[49m\u001b[38;5;124;43m\"\u001b[39;49m\u001b[38;5;124;43mcontent\u001b[39;49m\u001b[38;5;124;43m\"\u001b[39;49m\u001b[43m)\u001b[49m\u001b[43m)\u001b[49m\u001b[43m)\u001b[49m  \u001b[38;5;66;03m# コンテンツが表示されるのを待つ\u001b[39;00m\n\u001b[0;32m      8\u001b[0m     headline \u001b[38;5;241m=\u001b[39m item\u001b[38;5;241m.\u001b[39mfind_element(By\u001b[38;5;241m.\u001b[39mCLASS_NAME, \u001b[38;5;124m\"\u001b[39m\u001b[38;5;124mheadline\u001b[39m\u001b[38;5;124m\"\u001b[39m)\u001b[38;5;241m.\u001b[39mtext\u001b[38;5;241m.\u001b[39mstrip()\n\u001b[0;32m      9\u001b[0m     date_time \u001b[38;5;241m=\u001b[39m item\u001b[38;5;241m.\u001b[39mfind_element(By\u001b[38;5;241m.\u001b[39mCLASS_NAME, \u001b[38;5;124m\"\u001b[39m\u001b[38;5;124mdate\u001b[39m\u001b[38;5;124m\"\u001b[39m)\u001b[38;5;241m.\u001b[39mtext\u001b[38;5;241m.\u001b[39mstrip()\n",
      "File \u001b[1;32mc:\\Users\\ryosh\\.virtualenvs\\PBL_stock-zyXPpcL0\\Lib\\site-packages\\selenium\\webdriver\\support\\wait.py:102\u001b[0m, in \u001b[0;36mWebDriverWait.until\u001b[1;34m(self, method, message)\u001b[0m\n\u001b[0;32m    100\u001b[0m     screen \u001b[38;5;241m=\u001b[39m \u001b[38;5;28mgetattr\u001b[39m(exc, \u001b[38;5;124m\"\u001b[39m\u001b[38;5;124mscreen\u001b[39m\u001b[38;5;124m\"\u001b[39m, \u001b[38;5;28;01mNone\u001b[39;00m)\n\u001b[0;32m    101\u001b[0m     stacktrace \u001b[38;5;241m=\u001b[39m \u001b[38;5;28mgetattr\u001b[39m(exc, \u001b[38;5;124m\"\u001b[39m\u001b[38;5;124mstacktrace\u001b[39m\u001b[38;5;124m\"\u001b[39m, \u001b[38;5;28;01mNone\u001b[39;00m)\n\u001b[1;32m--> 102\u001b[0m time\u001b[38;5;241m.\u001b[39msleep(\u001b[38;5;28mself\u001b[39m\u001b[38;5;241m.\u001b[39m_poll)\n\u001b[0;32m    103\u001b[0m \u001b[38;5;28;01mif\u001b[39;00m time\u001b[38;5;241m.\u001b[39mmonotonic() \u001b[38;5;241m>\u001b[39m end_time:\n\u001b[0;32m    104\u001b[0m     \u001b[38;5;28;01mbreak\u001b[39;00m\n",
      "\u001b[1;31mKeyboardInterrupt\u001b[0m: "
     ]
    }
   ],
   "source": [
    "def collect_news_data(driver, wait):\n",
    "    try:\n",
    "        news_items = wait.until(EC.presence_of_all_elements_located((By.CLASS_NAME, \"data-row\")))\n",
    "        news_data = []\n",
    "        for item in reversed(news_items):\n",
    "            item.click()\n",
    "            wait.until(EC.visibility_of_element_located((By.CLASS_NAME, \"content\")))  # コンテンツが表示されるのを待つ\n",
    "            headline = item.find_element(By.CLASS_NAME, \"headline\").text.strip()\n",
    "            date_time = item.find_element(By.CLASS_NAME, \"date\").text.strip()\n",
    "            content = item.find_element(By.CLASS_NAME, \"content\").text.strip() if item.get_attribute(\"is-open\") == \"true\" else \"コンテンツが利用不可\"\n",
    "            news_data.append({\"headline\": headline, \"date\": date_time, \"content\": content})\n",
    "        return news_data\n",
    "    except Exception as e:\n",
    "        print(f\"Error while collecting news data: {e}\")\n",
    "        return []\n",
    "\n",
    "def navigate_and_collect(driver):\n",
    "    wait = WebDriverWait(driver, 10)\n",
    "    all_news_data = []\n",
    "\n",
    "    while True:\n",
    "        new_data = collect_news_data(driver, wait)\n",
    "        all_news_data.extend(new_data)\n",
    "\n",
    "        try:\n",
    "            current_page = int(wait.until(EC.visibility_of_element_located((By.CSS_SELECTOR, \".paginationjs-page.active a\"))).text)\n",
    "            if current_page == 1:\n",
    "                break\n",
    "            prev_button = wait.until(EC.element_to_be_clickable((By.CSS_SELECTOR, \".paginationjs-prev:not(.disabled) a\")))\n",
    "            prev_button.click()\n",
    "            wait.until(EC.staleness_of(prev_button))  # ページが完全に遷移するのを待つ\n",
    "        except TimeoutException:\n",
    "            print(\"Waiting for the previous button to be clickable timed out. Trying again...\")\n",
    "            continue  # エラーが出た場合、同じページで再試行する\n",
    "        except NoSuchElementException:\n",
    "            print(\"Previous button not found, possibly on the first page.\")\n",
    "            break\n",
    "\n",
    "    return all_news_data\n",
    "\n",
    "collected_data = navigate_and_collect(driver)\n",
    "\n",
    "# 収集したデータをJSONファイルに保存\n",
    "today_date = datetime.now().strftime(\"%Y-%m-%d\")\n",
    "filename = f\"./scrape_data/{today_date}_test_data.json\"\n",
    "with open(filename, 'w', encoding='utf-8') as f:\n",
    "    json.dump(collected_data, f, ensure_ascii=False, indent=4)"
   ]
  },
  {
   "cell_type": "code",
   "execution_count": 27,
   "metadata": {},
   "outputs": [
    {
     "name": "stdout",
     "output_type": "stream",
     "text": [
      "['301EB73D6654F955565F58AB50933385', 'C33940D93B42C48258FA6AC5928810EC', '577BA6E8CA2C7E412F18882CD9E188EA']\n"
     ]
    }
   ],
   "source": [
    "print(driver.window_handles)"
   ]
  },
  {
   "cell_type": "code",
   "execution_count": null,
   "metadata": {},
   "outputs": [],
   "source": [
    "\n",
    "driver.close()\n",
    "driver.switch_to.window(original_window)\n",
    "\n",
    "driver.find_element(By.ID, \"logo-icon\").click()"
   ]
  },
  {
   "cell_type": "code",
   "execution_count": null,
   "metadata": {},
   "outputs": [],
   "source": [
    "def load_symbols(filename):\n",
    "    with open(filename, 'r') as file:\n",
    "        data = json.load(file)\n",
    "    symbols = []\n",
    "    for entry in data:\n",
    "        symbols.append(entry[\"symbol\"])\n",
    "    return symbols"
   ]
  },
  {
   "cell_type": "code",
   "execution_count": 81,
   "metadata": {},
   "outputs": [],
   "source": [
    "\n",
    "def news(n_stock):\n",
    "    input_element = driver.find_element(By.CLASS_NAME, \"input-sm\")\n",
    "    input_element.send_keys(n_stock)\n",
    "    time.sleep(0.3)\n",
    "\n",
    "    search_button = driver.find_element(By.CSS_SELECTOR, \"button[data-ga-button='brandsearch']\")\n",
    "\n",
    "    search_button.click()\n",
    "    time.sleep(0.3)\n",
    "\n",
    "    # 'ニュース'タブに対応するボタンを見つける\n",
    "    news_tab = driver.find_element(By.CSS_SELECTOR, \"button[data-ga-tab='news']\")\n",
    "\n",
    "    # ボタンをクリックする\n",
    "    news_tab.click()\n",
    "    time.sleep(0.3)\n",
    "\n",
    "    iframe = driver.page_source\n",
    "\n",
    "    soup = BeautifulSoup(iframe, \"html.parser\")\n",
    "    url_pattern = \"https://graph.sbisec.co.jp/sbinews/pc?\"\n",
    "\n",
    "    # Search for iframes or similar tags that might contain the specified URL pattern\n",
    "    iframe_urls = [iframe.get('src') for iframe in soup.find_all('iframe', src=True) if iframe['src'].startswith(url_pattern)]\n",
    "\n",
    "    driver.execute_script(f\"window.open('{iframe_urls[0]}', '_blank');\")\n",
    "\n",
    "    # 現在のウィンドウハンドルを取得\n",
    "    original_window = driver.current_window_handle\n",
    "\n",
    "    # 新しいタブまたはウィンドウに切り替え\n",
    "    new_window = [window for window in driver.window_handles if window != original_window][1]\n",
    "    driver.switch_to.window(new_window)\n",
    "    time.sleep(0.5)\n",
    "\n",
    "    prev_to_next_button = driver.find_element(By.CSS_SELECTOR, \"li.paginationjs-page.paginationjs-last.J-paginationjs-page a\")\n",
    "    prev_to_next_button.click()\n",
    "\n",
    "    # 今日の日付を取得してファイル名に使用\n",
    "    today_date = datetime.now().strftime(\"%Y-%m-%d\")\n",
    "    filename = f\"./scrape_data/{n_stock}_{today_date}_news_data.json\"\n",
    "\n",
    "    # WebDriverWaitの設定\n",
    "    wait = WebDriverWait(driver, 10)\n",
    "\n",
    "    news_items = wait.until(EC.presence_of_all_elements_located((By.CLASS_NAME, \"data-row\")))\n",
    "    news_data = []\n",
    "\n",
    "    for item in reversed(news_items):\n",
    "        # ニュース項目をクリック\n",
    "        wait.until(EC.element_to_be_clickable(item)).click()\n",
    "\n",
    "        # コンテンツが表示されるのを待つ\n",
    "        content = wait.until(EC.visibility_of_element_located((By.CSS_SELECTOR, \".data-row[is-open='true'] .content\")))\n",
    "        # time.sleep(0.02)  # 展開待ち\n",
    "\n",
    "        headline = item.find_element(By.CLASS_NAME, \"headline\").text.strip()\n",
    "        date_time = item.find_element(By.CLASS_NAME, \"date\").text.strip()\n",
    "        content_text = content.text.strip() if content.text.strip() else \"No content available\"\n",
    "\n",
    "        news_data.append({\"headline\": headline, \"date\": date_time, \"content\": content_text})\n",
    "\n",
    "\n",
    "    # 初回のニュースデータ収集\n",
    "    all_news_data = news_data\n",
    "    print(all_news_data)\n",
    "\n",
    "    # 「Previous page」の処理\n",
    "    while True:\n",
    "        try:\n",
    "            prev_button = wait.until(EC.presence_of_element_located((By.CSS_SELECTOR, \"#pagination-container1 .paginationjs-prev:not(.disabled)\")))\n",
    "            if \"disabled\" in prev_button.get_attribute(\"class\"):\n",
    "                print(\"Reached the first page, no more previous pages.\")\n",
    "                break\n",
    "            prev_button.click()\n",
    "            wait.until(EC.staleness_of(news_items[0]))\n",
    "            new_data = collect_news_data()\n",
    "            all_news_data.extend(new_data)\n",
    "            print(new_data)\n",
    "        except:\n",
    "            break\n",
    "\n",
    "\n",
    "    # JSONファイルに保存\n",
    "    with open(filename, 'w', encoding='utf-8') as f:\n",
    "        json.dump(all_news_data, f, ensure_ascii=False, indent=4)\n",
    "\n",
    "    driver.close()\n",
    "    driver.switch_to.window(original_window)\n",
    "\n",
    "    driver.find_element(By.ID, \"logo-icon\").click()\n",
    "\n"
   ]
  },
  {
   "cell_type": "code",
   "execution_count": 83,
   "metadata": {},
   "outputs": [
    {
     "ename": "NoSuchWindowException",
     "evalue": "Message: no such window: target window already closed\nfrom unknown error: web view not found\n  (Session info: chrome=124.0.6367.60)\nStacktrace:\n\tGetHandleVerifier [0x00007FF76AF01502+60802]\n\t(No symbol) [0x00007FF76AE7AC02]\n\t(No symbol) [0x00007FF76AD37CE4]\n\t(No symbol) [0x00007FF76AD0DFDF]\n\t(No symbol) [0x00007FF76ADB1E57]\n\t(No symbol) [0x00007FF76ADB8DDB]\n\t(No symbol) [0x00007FF76ADAAB40]\n\t(No symbol) [0x00007FF76AD78FEC]\n\t(No symbol) [0x00007FF76AD79C21]\n\tGetHandleVerifier [0x00007FF76B20411D+3217821]\n\tGetHandleVerifier [0x00007FF76B2460B7+3488055]\n\tGetHandleVerifier [0x00007FF76B23F03F+3459263]\n\tGetHandleVerifier [0x00007FF76AFBB846+823494]\n\t(No symbol) [0x00007FF76AE85F9F]\n\t(No symbol) [0x00007FF76AE80EC4]\n\t(No symbol) [0x00007FF76AE81052]\n\t(No symbol) [0x00007FF76AE718A4]\n\tBaseThreadInitThunk [0x00007FFE7FE5257D+29]\n\tRtlUserThreadStart [0x00007FFE807CAA48+40]\n",
     "output_type": "error",
     "traceback": [
      "\u001b[1;31m---------------------------------------------------------------------------\u001b[0m",
      "\u001b[1;31mNoSuchWindowException\u001b[0m                     Traceback (most recent call last)",
      "Cell \u001b[1;32mIn[83], line 2\u001b[0m\n\u001b[0;32m      1\u001b[0m \u001b[38;5;66;03m# 現在のウィンドウハンドルを取得\u001b[39;00m\n\u001b[1;32m----> 2\u001b[0m original_window \u001b[38;5;241m=\u001b[39m \u001b[43mdriver\u001b[49m\u001b[38;5;241;43m.\u001b[39;49m\u001b[43mcurrent_window_handle\u001b[49m\n\u001b[0;32m      4\u001b[0m \u001b[38;5;66;03m# 新しいタブまたはウィンドウに切り替え\u001b[39;00m\n\u001b[0;32m      5\u001b[0m new_window \u001b[38;5;241m=\u001b[39m [window \u001b[38;5;28;01mfor\u001b[39;00m window \u001b[38;5;129;01min\u001b[39;00m driver\u001b[38;5;241m.\u001b[39mwindow_handles \u001b[38;5;28;01mif\u001b[39;00m window \u001b[38;5;241m!=\u001b[39m original_window][\u001b[38;5;241m0\u001b[39m]\n",
      "File \u001b[1;32mc:\\Users\\MIRAI\\.virtualenvs\\PBL_stock-c7g-vUE4\\Lib\\site-packages\\selenium\\webdriver\\remote\\webdriver.py:483\u001b[0m, in \u001b[0;36mWebDriver.current_window_handle\u001b[1;34m(self)\u001b[0m\n\u001b[0;32m    474\u001b[0m \u001b[38;5;129m@property\u001b[39m\n\u001b[0;32m    475\u001b[0m \u001b[38;5;28;01mdef\u001b[39;00m \u001b[38;5;21mcurrent_window_handle\u001b[39m(\u001b[38;5;28mself\u001b[39m) \u001b[38;5;241m-\u001b[39m\u001b[38;5;241m>\u001b[39m \u001b[38;5;28mstr\u001b[39m:\n\u001b[0;32m    476\u001b[0m \u001b[38;5;250m    \u001b[39m\u001b[38;5;124;03m\"\"\"Returns the handle of the current window.\u001b[39;00m\n\u001b[0;32m    477\u001b[0m \n\u001b[0;32m    478\u001b[0m \u001b[38;5;124;03m    :Usage:\u001b[39;00m\n\u001b[1;32m   (...)\u001b[0m\n\u001b[0;32m    481\u001b[0m \u001b[38;5;124;03m            driver.current_window_handle\u001b[39;00m\n\u001b[0;32m    482\u001b[0m \u001b[38;5;124;03m    \"\"\"\u001b[39;00m\n\u001b[1;32m--> 483\u001b[0m     \u001b[38;5;28;01mreturn\u001b[39;00m \u001b[38;5;28;43mself\u001b[39;49m\u001b[38;5;241;43m.\u001b[39;49m\u001b[43mexecute\u001b[49m\u001b[43m(\u001b[49m\u001b[43mCommand\u001b[49m\u001b[38;5;241;43m.\u001b[39;49m\u001b[43mW3C_GET_CURRENT_WINDOW_HANDLE\u001b[49m\u001b[43m)\u001b[49m[\u001b[38;5;124m\"\u001b[39m\u001b[38;5;124mvalue\u001b[39m\u001b[38;5;124m\"\u001b[39m]\n",
      "File \u001b[1;32mc:\\Users\\MIRAI\\.virtualenvs\\PBL_stock-c7g-vUE4\\Lib\\site-packages\\selenium\\webdriver\\remote\\webdriver.py:347\u001b[0m, in \u001b[0;36mWebDriver.execute\u001b[1;34m(self, driver_command, params)\u001b[0m\n\u001b[0;32m    345\u001b[0m response \u001b[38;5;241m=\u001b[39m \u001b[38;5;28mself\u001b[39m\u001b[38;5;241m.\u001b[39mcommand_executor\u001b[38;5;241m.\u001b[39mexecute(driver_command, params)\n\u001b[0;32m    346\u001b[0m \u001b[38;5;28;01mif\u001b[39;00m response:\n\u001b[1;32m--> 347\u001b[0m     \u001b[38;5;28;43mself\u001b[39;49m\u001b[38;5;241;43m.\u001b[39;49m\u001b[43merror_handler\u001b[49m\u001b[38;5;241;43m.\u001b[39;49m\u001b[43mcheck_response\u001b[49m\u001b[43m(\u001b[49m\u001b[43mresponse\u001b[49m\u001b[43m)\u001b[49m\n\u001b[0;32m    348\u001b[0m     response[\u001b[38;5;124m\"\u001b[39m\u001b[38;5;124mvalue\u001b[39m\u001b[38;5;124m\"\u001b[39m] \u001b[38;5;241m=\u001b[39m \u001b[38;5;28mself\u001b[39m\u001b[38;5;241m.\u001b[39m_unwrap_value(response\u001b[38;5;241m.\u001b[39mget(\u001b[38;5;124m\"\u001b[39m\u001b[38;5;124mvalue\u001b[39m\u001b[38;5;124m\"\u001b[39m, \u001b[38;5;28;01mNone\u001b[39;00m))\n\u001b[0;32m    349\u001b[0m     \u001b[38;5;28;01mreturn\u001b[39;00m response\n",
      "File \u001b[1;32mc:\\Users\\MIRAI\\.virtualenvs\\PBL_stock-c7g-vUE4\\Lib\\site-packages\\selenium\\webdriver\\remote\\errorhandler.py:229\u001b[0m, in \u001b[0;36mErrorHandler.check_response\u001b[1;34m(self, response)\u001b[0m\n\u001b[0;32m    227\u001b[0m         alert_text \u001b[38;5;241m=\u001b[39m value[\u001b[38;5;124m\"\u001b[39m\u001b[38;5;124malert\u001b[39m\u001b[38;5;124m\"\u001b[39m]\u001b[38;5;241m.\u001b[39mget(\u001b[38;5;124m\"\u001b[39m\u001b[38;5;124mtext\u001b[39m\u001b[38;5;124m\"\u001b[39m)\n\u001b[0;32m    228\u001b[0m     \u001b[38;5;28;01mraise\u001b[39;00m exception_class(message, screen, stacktrace, alert_text)  \u001b[38;5;66;03m# type: ignore[call-arg]  # mypy is not smart enough here\u001b[39;00m\n\u001b[1;32m--> 229\u001b[0m \u001b[38;5;28;01mraise\u001b[39;00m exception_class(message, screen, stacktrace)\n",
      "\u001b[1;31mNoSuchWindowException\u001b[0m: Message: no such window: target window already closed\nfrom unknown error: web view not found\n  (Session info: chrome=124.0.6367.60)\nStacktrace:\n\tGetHandleVerifier [0x00007FF76AF01502+60802]\n\t(No symbol) [0x00007FF76AE7AC02]\n\t(No symbol) [0x00007FF76AD37CE4]\n\t(No symbol) [0x00007FF76AD0DFDF]\n\t(No symbol) [0x00007FF76ADB1E57]\n\t(No symbol) [0x00007FF76ADB8DDB]\n\t(No symbol) [0x00007FF76ADAAB40]\n\t(No symbol) [0x00007FF76AD78FEC]\n\t(No symbol) [0x00007FF76AD79C21]\n\tGetHandleVerifier [0x00007FF76B20411D+3217821]\n\tGetHandleVerifier [0x00007FF76B2460B7+3488055]\n\tGetHandleVerifier [0x00007FF76B23F03F+3459263]\n\tGetHandleVerifier [0x00007FF76AFBB846+823494]\n\t(No symbol) [0x00007FF76AE85F9F]\n\t(No symbol) [0x00007FF76AE80EC4]\n\t(No symbol) [0x00007FF76AE81052]\n\t(No symbol) [0x00007FF76AE718A4]\n\tBaseThreadInitThunk [0x00007FFE7FE5257D+29]\n\tRtlUserThreadStart [0x00007FFE807CAA48+40]\n"
     ]
    }
   ],
   "source": [
    "# 現在のウィンドウハンドルを取得\n",
    "original_window = driver.current_window_handle\n",
    "\n",
    "# 新しいタブまたはウィンドウに切り替え\n",
    "new_window = [window for window in driver.window_handles if window != original_window][0]\n",
    "driver.switch_to.window(new_window)\n",
    "time.sleep(0.5)"
   ]
  },
  {
   "cell_type": "code",
   "execution_count": 82,
   "metadata": {},
   "outputs": [
    {
     "ename": "NoSuchWindowException",
     "evalue": "Message: no such window: target window already closed\nfrom unknown error: web view not found\n  (Session info: chrome=124.0.6367.60)\nStacktrace:\n\tGetHandleVerifier [0x00007FF76AF01502+60802]\n\t(No symbol) [0x00007FF76AE7AC02]\n\t(No symbol) [0x00007FF76AD37CE4]\n\t(No symbol) [0x00007FF76AD0DFDF]\n\t(No symbol) [0x00007FF76ADB1E57]\n\t(No symbol) [0x00007FF76ADC98D1]\n\t(No symbol) [0x00007FF76ADAA923]\n\t(No symbol) [0x00007FF76AD78FEC]\n\t(No symbol) [0x00007FF76AD79C21]\n\tGetHandleVerifier [0x00007FF76B20411D+3217821]\n\tGetHandleVerifier [0x00007FF76B2460B7+3488055]\n\tGetHandleVerifier [0x00007FF76B23F03F+3459263]\n\tGetHandleVerifier [0x00007FF76AFBB846+823494]\n\t(No symbol) [0x00007FF76AE85F9F]\n\t(No symbol) [0x00007FF76AE80EC4]\n\t(No symbol) [0x00007FF76AE81052]\n\t(No symbol) [0x00007FF76AE718A4]\n\tBaseThreadInitThunk [0x00007FFE7FE5257D+29]\n\tRtlUserThreadStart [0x00007FFE807CAA48+40]\n",
     "output_type": "error",
     "traceback": [
      "\u001b[1;31m---------------------------------------------------------------------------\u001b[0m",
      "\u001b[1;31mNoSuchWindowException\u001b[0m                     Traceback (most recent call last)",
      "Cell \u001b[1;32mIn[82], line 1\u001b[0m\n\u001b[1;32m----> 1\u001b[0m \u001b[43mnews\u001b[49m\u001b[43m(\u001b[49m\u001b[38;5;124;43m\"\u001b[39;49m\u001b[38;5;124;43mNVDA\u001b[39;49m\u001b[38;5;124;43m\"\u001b[39;49m\u001b[43m)\u001b[49m\n",
      "Cell \u001b[1;32mIn[81], line 2\u001b[0m, in \u001b[0;36mnews\u001b[1;34m(n_stock)\u001b[0m\n\u001b[0;32m      1\u001b[0m \u001b[38;5;28;01mdef\u001b[39;00m \u001b[38;5;21mnews\u001b[39m(n_stock):\n\u001b[1;32m----> 2\u001b[0m     input_element \u001b[38;5;241m=\u001b[39m \u001b[43mdriver\u001b[49m\u001b[38;5;241;43m.\u001b[39;49m\u001b[43mfind_element\u001b[49m\u001b[43m(\u001b[49m\u001b[43mBy\u001b[49m\u001b[38;5;241;43m.\u001b[39;49m\u001b[43mCLASS_NAME\u001b[49m\u001b[43m,\u001b[49m\u001b[43m \u001b[49m\u001b[38;5;124;43m\"\u001b[39;49m\u001b[38;5;124;43minput-sm\u001b[39;49m\u001b[38;5;124;43m\"\u001b[39;49m\u001b[43m)\u001b[49m\n\u001b[0;32m      3\u001b[0m     input_element\u001b[38;5;241m.\u001b[39msend_keys(n_stock)\n\u001b[0;32m      4\u001b[0m     time\u001b[38;5;241m.\u001b[39msleep(\u001b[38;5;241m0.3\u001b[39m)\n",
      "File \u001b[1;32mc:\\Users\\MIRAI\\.virtualenvs\\PBL_stock-c7g-vUE4\\Lib\\site-packages\\selenium\\webdriver\\remote\\webdriver.py:741\u001b[0m, in \u001b[0;36mWebDriver.find_element\u001b[1;34m(self, by, value)\u001b[0m\n\u001b[0;32m    738\u001b[0m     by \u001b[38;5;241m=\u001b[39m By\u001b[38;5;241m.\u001b[39mCSS_SELECTOR\n\u001b[0;32m    739\u001b[0m     value \u001b[38;5;241m=\u001b[39m \u001b[38;5;124mf\u001b[39m\u001b[38;5;124m'\u001b[39m\u001b[38;5;124m[name=\u001b[39m\u001b[38;5;124m\"\u001b[39m\u001b[38;5;132;01m{\u001b[39;00mvalue\u001b[38;5;132;01m}\u001b[39;00m\u001b[38;5;124m\"\u001b[39m\u001b[38;5;124m]\u001b[39m\u001b[38;5;124m'\u001b[39m\n\u001b[1;32m--> 741\u001b[0m \u001b[38;5;28;01mreturn\u001b[39;00m \u001b[38;5;28;43mself\u001b[39;49m\u001b[38;5;241;43m.\u001b[39;49m\u001b[43mexecute\u001b[49m\u001b[43m(\u001b[49m\u001b[43mCommand\u001b[49m\u001b[38;5;241;43m.\u001b[39;49m\u001b[43mFIND_ELEMENT\u001b[49m\u001b[43m,\u001b[49m\u001b[43m \u001b[49m\u001b[43m{\u001b[49m\u001b[38;5;124;43m\"\u001b[39;49m\u001b[38;5;124;43musing\u001b[39;49m\u001b[38;5;124;43m\"\u001b[39;49m\u001b[43m:\u001b[49m\u001b[43m \u001b[49m\u001b[43mby\u001b[49m\u001b[43m,\u001b[49m\u001b[43m \u001b[49m\u001b[38;5;124;43m\"\u001b[39;49m\u001b[38;5;124;43mvalue\u001b[39;49m\u001b[38;5;124;43m\"\u001b[39;49m\u001b[43m:\u001b[49m\u001b[43m \u001b[49m\u001b[43mvalue\u001b[49m\u001b[43m}\u001b[49m\u001b[43m)\u001b[49m[\u001b[38;5;124m\"\u001b[39m\u001b[38;5;124mvalue\u001b[39m\u001b[38;5;124m\"\u001b[39m]\n",
      "File \u001b[1;32mc:\\Users\\MIRAI\\.virtualenvs\\PBL_stock-c7g-vUE4\\Lib\\site-packages\\selenium\\webdriver\\remote\\webdriver.py:347\u001b[0m, in \u001b[0;36mWebDriver.execute\u001b[1;34m(self, driver_command, params)\u001b[0m\n\u001b[0;32m    345\u001b[0m response \u001b[38;5;241m=\u001b[39m \u001b[38;5;28mself\u001b[39m\u001b[38;5;241m.\u001b[39mcommand_executor\u001b[38;5;241m.\u001b[39mexecute(driver_command, params)\n\u001b[0;32m    346\u001b[0m \u001b[38;5;28;01mif\u001b[39;00m response:\n\u001b[1;32m--> 347\u001b[0m     \u001b[38;5;28;43mself\u001b[39;49m\u001b[38;5;241;43m.\u001b[39;49m\u001b[43merror_handler\u001b[49m\u001b[38;5;241;43m.\u001b[39;49m\u001b[43mcheck_response\u001b[49m\u001b[43m(\u001b[49m\u001b[43mresponse\u001b[49m\u001b[43m)\u001b[49m\n\u001b[0;32m    348\u001b[0m     response[\u001b[38;5;124m\"\u001b[39m\u001b[38;5;124mvalue\u001b[39m\u001b[38;5;124m\"\u001b[39m] \u001b[38;5;241m=\u001b[39m \u001b[38;5;28mself\u001b[39m\u001b[38;5;241m.\u001b[39m_unwrap_value(response\u001b[38;5;241m.\u001b[39mget(\u001b[38;5;124m\"\u001b[39m\u001b[38;5;124mvalue\u001b[39m\u001b[38;5;124m\"\u001b[39m, \u001b[38;5;28;01mNone\u001b[39;00m))\n\u001b[0;32m    349\u001b[0m     \u001b[38;5;28;01mreturn\u001b[39;00m response\n",
      "File \u001b[1;32mc:\\Users\\MIRAI\\.virtualenvs\\PBL_stock-c7g-vUE4\\Lib\\site-packages\\selenium\\webdriver\\remote\\errorhandler.py:229\u001b[0m, in \u001b[0;36mErrorHandler.check_response\u001b[1;34m(self, response)\u001b[0m\n\u001b[0;32m    227\u001b[0m         alert_text \u001b[38;5;241m=\u001b[39m value[\u001b[38;5;124m\"\u001b[39m\u001b[38;5;124malert\u001b[39m\u001b[38;5;124m\"\u001b[39m]\u001b[38;5;241m.\u001b[39mget(\u001b[38;5;124m\"\u001b[39m\u001b[38;5;124mtext\u001b[39m\u001b[38;5;124m\"\u001b[39m)\n\u001b[0;32m    228\u001b[0m     \u001b[38;5;28;01mraise\u001b[39;00m exception_class(message, screen, stacktrace, alert_text)  \u001b[38;5;66;03m# type: ignore[call-arg]  # mypy is not smart enough here\u001b[39;00m\n\u001b[1;32m--> 229\u001b[0m \u001b[38;5;28;01mraise\u001b[39;00m exception_class(message, screen, stacktrace)\n",
      "\u001b[1;31mNoSuchWindowException\u001b[0m: Message: no such window: target window already closed\nfrom unknown error: web view not found\n  (Session info: chrome=124.0.6367.60)\nStacktrace:\n\tGetHandleVerifier [0x00007FF76AF01502+60802]\n\t(No symbol) [0x00007FF76AE7AC02]\n\t(No symbol) [0x00007FF76AD37CE4]\n\t(No symbol) [0x00007FF76AD0DFDF]\n\t(No symbol) [0x00007FF76ADB1E57]\n\t(No symbol) [0x00007FF76ADC98D1]\n\t(No symbol) [0x00007FF76ADAA923]\n\t(No symbol) [0x00007FF76AD78FEC]\n\t(No symbol) [0x00007FF76AD79C21]\n\tGetHandleVerifier [0x00007FF76B20411D+3217821]\n\tGetHandleVerifier [0x00007FF76B2460B7+3488055]\n\tGetHandleVerifier [0x00007FF76B23F03F+3459263]\n\tGetHandleVerifier [0x00007FF76AFBB846+823494]\n\t(No symbol) [0x00007FF76AE85F9F]\n\t(No symbol) [0x00007FF76AE80EC4]\n\t(No symbol) [0x00007FF76AE81052]\n\t(No symbol) [0x00007FF76AE718A4]\n\tBaseThreadInitThunk [0x00007FFE7FE5257D+29]\n\tRtlUserThreadStart [0x00007FFE807CAA48+40]\n"
     ]
    }
   ],
   "source": [
    "news(\"NVDA\")"
   ]
  },
  {
   "cell_type": "code",
   "execution_count": null,
   "metadata": {},
   "outputs": [],
   "source": []
  }
 ],
 "metadata": {
  "kernelspec": {
   "display_name": "PBL_stock-c7g-vUE4",
   "language": "python",
   "name": "python3"
  },
  "language_info": {
   "codemirror_mode": {
    "name": "ipython",
    "version": 3
   },
   "file_extension": ".py",
   "mimetype": "text/x-python",
   "name": "python",
   "nbconvert_exporter": "python",
   "pygments_lexer": "ipython3",
   "version": "3.11.6"
  }
 },
 "nbformat": 4,
 "nbformat_minor": 2
}
