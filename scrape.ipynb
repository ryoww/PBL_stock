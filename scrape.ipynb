{
 "cells": [
  {
   "cell_type": "code",
   "execution_count": 1,
   "metadata": {},
   "outputs": [],
   "source": [
    "from selenium import webdriver\n",
    "from selenium.webdriver.chrome.options import Options\n",
    "from selenium.webdriver.common.by import By\n",
    "\n",
    "import time\n",
    "from key import sbi_id, sbi_pass\n"
   ]
  },
  {
   "cell_type": "code",
   "execution_count": 10,
   "metadata": {},
   "outputs": [],
   "source": [
    "options = Options()\n",
    "\n",
    "options.add_experimental_option(\"detach\", True)\n",
    "\n",
    "driver = webdriver.Chrome(options=options)\n",
    "\n",
    "driver.get(\"https://www.sbisec.co.jp/ETGate\")\n",
    "\n",
    "id_input = driver.find_element(By.NAME, \"user_id\")\n",
    "# time.sleep(1)\n",
    "id_input.send_keys(sbi_id)\n",
    "\n",
    "pass_input = driver.find_element(By.NAME, \"user_password\")\n",
    "# time.sleep(1)\n",
    "pass_input.send_keys(sbi_pass)\n",
    "\n",
    "driver.find_element(By.NAME, \"ACT_login\").click()"
   ]
  },
  {
   "cell_type": "code",
   "execution_count": 13,
   "metadata": {},
   "outputs": [],
   "source": [
    "link = driver.find_element(By.CSS_SELECTOR, \"a img[alt='外国株式・海外ETF']\")\n",
    "driver.execute_script(\"arguments[0].click();\", link)"
   ]
  },
  {
   "cell_type": "code",
   "execution_count": 14,
   "metadata": {},
   "outputs": [],
   "source": [
    "# JavaScriptを使用してクリックする\n",
    "link = driver.find_element(By.CSS_SELECTOR, \"a._mypage_btn__8wnX_\")\n",
    "driver.execute_script(\"arguments[0].click();\", link)"
   ]
  },
  {
   "cell_type": "code",
   "execution_count": null,
   "metadata": {},
   "outputs": [],
   "source": []
  }
 ],
 "metadata": {
  "kernelspec": {
   "display_name": "PBL_stock-c7g-vUE4",
   "language": "python",
   "name": "python3"
  },
  "language_info": {
   "codemirror_mode": {
    "name": "ipython",
    "version": 3
   },
   "file_extension": ".py",
   "mimetype": "text/x-python",
   "name": "python",
   "nbconvert_exporter": "python",
   "pygments_lexer": "ipython3",
   "version": "3.11.6"
  }
 },
 "nbformat": 4,
 "nbformat_minor": 2
}
