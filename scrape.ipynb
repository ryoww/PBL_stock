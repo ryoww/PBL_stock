{
 "cells": [
  {
   "cell_type": "markdown",
   "metadata": {},
   "source": [
    "## 情報をとってみる"
   ]
  },
  {
   "cell_type": "code",
   "execution_count": 1,
   "metadata": {},
   "outputs": [],
   "source": [
    "import requests\n",
    "from bs4 import BeautifulSoup\n",
    "\n",
    "url = 'https://global.sbisec.co.jp/invest/us/stock/NVDA?resource=price&searchType=include'\n",
    "\n",
    "res = requests.get(url)\n",
    "\n",
    "soup = BeautifulSoup(res.text, 'html.parser')\n",
    "\n",
    "# print(soup)"
   ]
  },
  {
   "cell_type": "markdown",
   "metadata": {},
   "source": [
    "## selenium使ってみる"
   ]
  },
  {
   "cell_type": "code",
   "execution_count": 1,
   "metadata": {},
   "outputs": [],
   "source": [
    "import os\n",
    "import time\n",
    "import datetime\n",
    "import pandas as pd\n",
    "from selenium import webdriver\n",
    "from selenium.webdriver.firefox.options import Options\n",
    "from selenium.webdriver.common.by import By\n",
    "from bs4 import BeautifulSoup"
   ]
  },
  {
   "cell_type": "code",
   "execution_count": 4,
   "metadata": {},
   "outputs": [
    {
     "name": "stdout",
     "output_type": "stream",
     "text": [
      "<selenium.webdriver.firefox.webdriver.WebDriver (session=\"0282f8e9-7e3b-4808-9053-4ba6bd5a76b3\")>\n"
     ]
    }
   ],
   "source": [
    "from key import user_name, password\n",
    "\n",
    "ACCOUNT = user_name\n",
    "PASSWORD = password\n",
    "# url = 'https://global.sbisec.co.jp/home'\n",
    "url = 'https://www.sbisec.co.jp/ETGate'\n",
    "\n",
    "def connect_sbi(ACCOUNT, PASSWORD, url):\n",
    "    options = Options()\n",
    "    \n",
    "    driver = webdriver.Firefox(options=options)\n",
    "    driver.get(url)\n",
    "\n",
    "    # ログイン処理\n",
    "    driver.find_element(By.NAME, 'user_id').send_keys(ACCOUNT)\n",
    "    driver.find_element(By.NAME, 'user_password').send_keys(PASSWORD)\n",
    "    driver.find_element(By.NAME, 'ACT_login').click()\n",
    "    \n",
    "    return driver\n",
    "\n",
    "print(connect_sbi(user_name, password, url))"
   ]
  },
  {
   "cell_type": "code",
   "execution_count": 4,
   "metadata": {},
   "outputs": [
    {
     "name": "stdout",
     "output_type": "stream",
     "text": [
      "<Response [200]>\n",
      "aaaaaaaaaa\n"
     ]
    }
   ],
   "source": []
  }
 ],
 "metadata": {
  "kernelspec": {
   "display_name": "PBL_stock-HqIXwvyC",
   "language": "python",
   "name": "python3"
  },
  "language_info": {
   "codemirror_mode": {
    "name": "ipython",
    "version": 3
   },
   "file_extension": ".py",
   "mimetype": "text/x-python",
   "name": "python",
   "nbconvert_exporter": "python",
   "pygments_lexer": "ipython3",
   "version": "3.11.8"
  }
 },
 "nbformat": 4,
 "nbformat_minor": 2
}
