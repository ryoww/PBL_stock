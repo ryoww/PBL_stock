{
 "cells": [
  {
   "cell_type": "markdown",
   "metadata": {},
   "source": [
    "## 情報をとってみる"
   ]
  },
  {
   "cell_type": "code",
   "execution_count": 1,
   "metadata": {},
   "outputs": [
    {
     "name": "stdout",
     "output_type": "stream",
     "text": [
      "<!DOCTYPE html>\n",
      "\n",
      "<html>\n",
      "<head>\n",
      "<meta charset=\"utf-8\"/>\n",
      "<meta content=\"IE=edge\" http-equiv=\"X-UA-Compatible\"/>\n",
      "<!-- favicon -->\n",
      "<link href=\"https://sbisec.akamaized.net/sbisec/images/common/favicon/apple-touch-icon-57x57.png\" rel=\"apple-touch-icon\" sizes=\"57x57\"/>\n",
      "<link href=\"https://sbisec.akamaized.net/sbisec/images/common/favicon/apple-touch-icon-60x60.png\" rel=\"apple-touch-icon\" sizes=\"60x60\"/>\n",
      "<link href=\"https://sbisec.akamaized.net/sbisec/images/common/favicon/apple-touch-icon-72x72.png\" rel=\"apple-touch-icon\" sizes=\"72x72\"/>\n",
      "<link href=\"https://sbisec.akamaized.net/sbisec/images/common/favicon/apple-touch-icon-76x76.png\" rel=\"apple-touch-icon\" sizes=\"76x76\"/>\n",
      "<link href=\"https://sbisec.akamaized.net/sbisec/images/common/favicon/apple-touch-icon-114x114.png\" rel=\"apple-touch-icon\" sizes=\"114x114\"/>\n",
      "<link href=\"https://sbisec.akamaized.net/sbisec/images/common/favicon/apple-touch-icon-120x120.png\" rel=\"apple-touch-icon\" sizes=\"120x120\"/>\n",
      "<link href=\"https://sbisec.akamaized.net/sbisec/images/common/favicon/apple-touch-icon-144x144.png\" rel=\"apple-touch-icon\" sizes=\"144x144\"/>\n",
      "<link href=\"https://sbisec.akamaized.net/sbisec/images/common/favicon/apple-touch-icon-152x152.png\" rel=\"apple-touch-icon\" sizes=\"152x152\"/>\n",
      "<link href=\"https://sbisec.akamaized.net/sbisec/images/common/favicon/favicon-16x16.png\" rel=\"icon\" sizes=\"16x16\" type=\"image/png\"/>\n",
      "<link href=\"https://sbisec.akamaized.net/sbisec/images/common/favicon/favicon-32x32.png\" rel=\"icon\" sizes=\"32x32\" type=\"image/png\"/>\n",
      "<link href=\"https://sbisec.akamaized.net/sbisec/images/common/favicon/favicon-96x96.png\" rel=\"icon\" sizes=\"96x96\" type=\"image/png\"/>\n",
      "<link href=\"https://sbisec.akamaized.net/sbisec/images/common/favicon/favicon-128.png\" rel=\"icon\" sizes=\"128x128\" type=\"image/png\"/>\n",
      "<link href=\"https://sbisec.akamaized.net/sbisec/images/common/favicon/favicon-196x196.png\" rel=\"icon\" sizes=\"196x196\" type=\"image/png\"/>\n",
      "<!-- IE -->\n",
      "<meta content=\" \" name=\"application-name\"/>\n",
      "<meta content=\"#FFFFFF\" name=\"msapplication-TileColor\"/>\n",
      "<meta content=\"https://sbisec.akamaized.net/sbisec/images/common/favicon/mstile-144x144.png\" name=\"msapplication-TileImage\"/>\n",
      "<meta content=\"https://sbisec.akamaized.net/sbisec/images/common/favicon/mstile-70x70.png\" name=\"msapplication-square70x70logo\"/>\n",
      "<meta content=\"https://sbisec.akamaized.net/sbisec/images/common/favicon/mstile-150x150.png\" name=\"msapplication-square150x150logo\"/>\n",
      "<meta content=\"https://sbisec.akamaized.net/sbisec/images/common/favicon/mstile-310x310.png\" name=\"msapplication-square310x310logo\"/>\n",
      "<meta content=\"https://sbisec.akamaized.net/sbisec/images/common/favicon/mstile-310x150.png\" name=\"msapplication-wide310x150logo\"/>\n",
      "<link href=\"https://sbisec.akamaized.net/sbisec/ui-basekit/2.2.0/css/ui-basekit.css\" rel=\"stylesheet\"/>\n",
      "<link href=\"https://sbisec.akamaized.net/sbisec/ui-components/main/3.1.0/css/ui-components.css\" rel=\"stylesheet\"/>\n",
      "<link href=\"https://sbisec.akamaized.net/sbisec/forest/prod/2.2.0/css/style.css\" rel=\"stylesheet\"/>\n",
      "<title>エラー | SBI証券</title>\n",
      "<meta content=\"25f5e7e6-e5fb-4db9-a458-f2f401ea5014\" name=\"_csrf\"/>\n",
      "<!---- http://search.sbisec.co.jp:8080/common/header/customer/header_global_001.html/// -->\n",
      "<!-- AA2GA/// -->\n",
      "<script charset=\"UTF-8\" src=\"https://sbisec.akamaized.net/sbisec/js/aa2ga1.0.0.min.js\" type=\"text/javascript\"></script>\n",
      "<!-- ///AA2GA -->\n",
      "<!-- Start KARTE Tag -->\n",
      "<script>!function(n){var o=window[n]=function(){var n=[].slice.call(arguments);return o.x?o.x.apply(0,n):o.q.push(n)};o.q=[],o.i=Date.now(),o.allow=function(){o.o=\"allow\"},o.deny=function(){o.o=\"deny\"}}(\"krt\")</script>\n",
      "<!-- Start KARTE Compatible Tag -->\n",
      "<script>!function(t,e,n){var r=this&&this.__spreadArray||function(t,e,n){if(n||2===arguments.length)for(var r,a=0,o=e.length;a<o;a++)!r&&a in e||(r||(r=Array.prototype.slice.call(e,0,a)),r[a]=e[a]);return t.concat(r||Array.prototype.slice.call(e))};n[e]&&(n[e].stop(),console.warn(\"[krt:compat] detect old tracker and remove it\"),delete n[e]);var a=n[e]||(n[e]=[]),o=function(){for(var e=[],r=0;r<arguments.length;r++)e[r]=arguments[r];return n[t].apply(n,e)};[\"start\",\"stop\",\"action\",\"event\",\"goal\",\"chat\",\"admin\",\"group\",\"alias\",\"ready\",\"form\",\"click\",\"submit\",\"cmd\",\"emit\",\"on\",\"send\",\"css\",\"js\",\"style\",\"option\",\"get\",\"set\",\"collection\"].map((function(t){a[t]=function(){for(var e=[],n=0;n<arguments.length;n++)e[n]=arguments[n];return console.error.apply(console,r([\"[krt:compat] not implmeneted\",t],e,!1))}})),a.track=function(){for(var t=[],e=0;e<arguments.length;e++)t[e]=arguments[e];if(0!==t.length)return t[1]||(t[1]={}),t[1]._system||(t[1]._system={}),t[1]._system.compatible_tag=!0,o.apply(void 0,r([\"send\"],t,!1))},a.user=function(){for(var t=[],e=0;e<arguments.length;e++)t[e]=arguments[e];return t[0]||(t[0]={}),t[0]._system||(t[0]._system={}),t[0]._system.compatible_tag=!0,o.apply(void 0,r([\"send\",\"identify\"],t,!1))},[\"buy\",\"view\",\"page\"].map((function(t){return a[t]=function(){for(var e=[],n=0;n<arguments.length;n++)e[n]=arguments[n];return e[0]||(e[0]={}),e[0]._system||(e[0]._system={}),e[0]._system.compatible_tag=!0,o.apply(void 0,r([\"send\",t],e,!1))}})),a.link=function(e,r){var a=document.querySelector(e);a&&(r||(r={}),r._system||(r._system={}),r._system.compatible_tag=!0,r.href=a.getAttribute(\"href\"),r.event_name||(r.event_name=\"link\"),a.addEventListener(\"click\",(function(){return n[t](\"send\",r.event_name,r)}),!0))},a.api_key=\"95fca66c5122213a3a8dd15548835818\"}(\"krt\",\"tracker\",window)</script>\n",
      "<!-- End KARTE Compatible Tag -->\n",
      "<script async=\"\" src=\"https://cdn-edge.karte.io/95fca66c5122213a3a8dd15548835818/edge.js\"></script>\n",
      "<!-- End KARTE Tag -->\n",
      "<!---- ///http://search.sbisec.co.jp:8080/common/header/customer/header_global_001.html ---->\n",
      "<script src=\"https://polyfill.io/v3/polyfill.min.js?features=es6%2CNodeList.prototype.forEach%2CURL%2CIntl.DateTimeFormat.%7EtimeZone.all%2CIntl.DateTimeFormat.%7EtimeZone.golden%2CURLSearchParams%2CObject.entries%2CString.prototype.padEnd%2CIntl.%7Elocale.ja%2CElement.prototype.scroll\"></script>\n",
      "</head>\n",
      "<body>\n",
      "<header class=\"header\" id=\"header\">\n",
      "<section class=\"navigation flex\" id=\"navigation\">\n",
      "<div class=\"navigation-logo\">\n",
      "<a class=\"logo-icon\" id=\"logo-icon\"></a>\n",
      "<label class=\"logo-title\">外貨建商品取引</label>\n",
      "</div>\n",
      "</section>\n",
      "</header>\n",
      "<div id=\"modal\"></div>\n",
      "<div class=\"container\" id=\"root\"></div>\n",
      "<div class=\"hide\">\n",
      "<div data-gethtml=\"/global_web/main/error_lower_01.html\"><!-- error_lower_01.html start -->\n",
      "<!-- error_lower_01.html end-->\n",
      "</div>\n",
      "</div>\n",
      "<div class=\"hide global-footer\" id=\"global-footer\">\n",
      "<!-- footer.html start -->\n",
      "<footer class=\"footer\">\n",
      "<div class=\"lower-container\" id=\"page-top\"></div>\n",
      "<section class=\"main-text icon-base\">\n",
      "<div class=\"mb-x-3\">\n",
      "<a class=\"text-link mr-x-4\" data-window-open=\"width=730,height=580,status=no,toolbar=no,resizable=yes,scrollbars=yes,left=5,top=5\" href=\"https://search.sbisec.co.jp/v2/popwin/attention/trading/info_attention.html\">投資情報に関する免責事項 <span class=\"i-external-secondary ml-5\"></span></a>\n",
      "<a class=\"text-link mr-x-4\" data-window-open=\"width=580,height=480,status=no,toolbar=no,resizable=yes,scrollbars=yes,left=5,top=5\" href=\"https://search.sbisec.co.jp/v2/popwin/info/home/pop6040_torihikihou.html#fo\">金融商品取引法等に係る表示<span class=\"i-external-secondary ml-5\"></span></a>\n",
      "<a class=\"text-link mr-x-4\" data-window-open=\"\" href=\"https://search.sbisec.co.jp/v2/popwin/info/stock/foreign_exp.pdf\"> 外国株式取引に関する説明書<span class=\"i-pdf\"></span></a>\n",
      "<a class=\"text-link\" data-window-open=\"\" href=\"https://search.sbisec.co.jp/v2/popwin/info/stock/kawase_exp.pdf\">為替取引に関する説明書<span class=\"i-pdf\"></span></a>\n",
      "</div>\n",
      "<small>\n",
      "      株式会社SBI証券　金融商品取引業者　関東財務局長（金商）第44号、商品先物取引業者\n",
      "      <br/>\n",
      "      加入協会/日本証券業協会、一般社団法人金融先物取引業協会、一般社団法人第二種金融商品取引業協会、一般社団法人日本STO協会、日本商品先物取引協会\n",
      "      \n",
      "    </small>\n",
      "</section>\n",
      "<section class=\"sub-text\">\n",
      "<small>© SBI SECURITIES Co., Ltd. ALL Rights Reserved</small>\n",
      "</section>\n",
      "</footer>\n",
      "<!-- footer.html end -->\n",
      "</div>\n",
      "<script>\n",
      "  /*<![CDATA[*/\n",
      "  var AKAMAI_URL = \"https:\\/\\/sbisec.akamaized.net\";\n",
      "  var FAQ_URL = \"https:\\/\\/faq.sbisec.co.jp\";\n",
      "  var GO_URL = \"https:\\/\\/go.sbisec.co.jp\";\n",
      "  var MAIN_SITE_URL = \"https:\\/\\/www.sbisec.co.jp\";\n",
      "  var MAIN_SITE_OUTSIDE_URL = \"https:\\/\\/www.sbisec.co.jp\\/ETGate\\/?OutSide=on\";\n",
      "  var MINKABU_URL = \"https:\\/\\/sbi-themeusa.image.jp\";\n",
      "  var WEALTH_ADVISOR_URL = \"https:\\/\\/apl.wealthadvisor.jp\";\n",
      "  var REUTERS_URL = \"https:\\/\\/graph.sbisec.co.jp\";\n",
      "  var IFIS_URL = \"https:\\/\\/sbi-fs.ifis.co.jp\";\n",
      "  var SEARCH_URL = \"https:\\/\\/search.sbisec.co.jp\";\n",
      "\n",
      "  var ACTIVE_PROFILES = [\"PROD\"];\n",
      "  var DATE_TIME_NOW = null;\n",
      "  var MESSAGES = [\"\\u4E00\\u5B9A\\u306E\\u6642\\u9593\\u3054\\u5229\\u7528\\u3055\\u308C\\u306A\\u304B\\u3063\\u305F\\u305F\\u3081\\u3001\\u81EA\\u52D5\\u3067\\u30ED\\u30B0\\u30A2\\u30A6\\u30C8\\u3044\\u305F\\u3057\\u307E\\u3057\\u305F\\u3002<br>\\u4EE5\\u4E0B\\u306E\\u30DC\\u30BF\\u30F3\\u3088\\u308A\\u3001\\u518D\\u5EA6\\u30ED\\u30B0\\u30A4\\u30F3\\u3057\\u3066\\u304F\\u3060\\u3055\\u3044\\u3002\"];\n",
      "  var STATUS = 401;\n",
      "\n",
      "  /*]]>*/\n",
      "</script>\n",
      "<!---- http://search.sbisec.co.jp:8080/common/footer/customer/footer_global_002.html/// ---->\n",
      "<!-- Google Tag Manager -->\n",
      "<script>\n",
      "    (function(w,d,s,l,i){\n",
      "        /* START : ADD TO SKIP IE */\n",
      "        var userAgent = window.navigator.userAgent.toLowerCase();\n",
      "        if(userAgent.indexOf('msie') != -1 || userAgent.indexOf('trident') != -1) {\n",
      "            console.log('SKIP GTM TAG AT IE');\n",
      "        } else {\n",
      "        /* END : ADD TO SKIP IE */\n",
      "        w[l]=w[l]||[];\n",
      "        w[l].push({'gtm.start':new Date().getTime(),event:'gtm.js'});\n",
      "        var f=d.getElementsByTagName(s)[0],\n",
      "        j=d.createElement(s),dl=l!='dataLayer'?'&l='+l:'';\n",
      "        j.async=true;\n",
      "        j.src='https://www.googletagmanager.com/gtm.js?id='+i+dl;f.parentNode.insertBefore(j,f);\n",
      "        /* START : ADD TO SKIP IE */\n",
      "        }\n",
      "        /* END : ADD TO SKIP IE */\n",
      "        })(window,document,'script','dataLayer','GTM-7SZV');\n",
      "  </script>\n",
      "<!-- End Google Tag Manager -->\n",
      "<!---- ///http://search.sbisec.co.jp:8080/common/footer/customer/footer_global_002.html ---->\n",
      "<script src=\"https://sbisec.akamaized.net/sbisec/forest/prod/2.2.0/js/vendor.js\"></script>\n",
      "<script src=\"https://sbisec.akamaized.net/sbisec/forest/prod/2.2.0/js/page/error/router.js\"></script>\n",
      "<script src=\"https://sbisec.akamaized.net/sbisec/js/global_web.js\"></script>\n",
      "<script src=\"https://sbisec.akamaized.net/sbisec/forest/prod/2.2.0/js/analytics/index.js\"></script>\n",
      "<div class=\"hide\">\n",
      "<sec:margin-call></sec:margin-call>\n",
      "</div>\n",
      "<script>\n",
      "      const target = document.getElementById(\"logo-icon\");\n",
      "      target.href = MAIN_SITE_OUTSIDE_URL;\n",
      "      if (typeof IS_LOGIN != \"undefined\") {\n",
      "        target.href = \"/home\";\n",
      "      }\n",
      "    </script>\n",
      "</body>\n",
      "</html>\n",
      "\n"
     ]
    }
   ],
   "source": [
    "import requests\n",
    "from bs4 import BeautifulSoup\n",
    "\n",
    "url = 'https://global.sbisec.co.jp/invest/us/stock/NVDA?resource=price&searchType=include'\n",
    "\n",
    "res = requests.get(url)\n",
    "\n",
    "soup = BeautifulSoup(res.text, 'html.parser')\n",
    "\n",
    "print(soup)"
   ]
  },
  {
   "cell_type": "markdown",
   "metadata": {},
   "source": [
    "## selenium使ってみる"
   ]
  },
  {
   "cell_type": "code",
   "execution_count": 1,
   "metadata": {},
   "outputs": [],
   "source": [
    "import os\n",
    "import time\n",
    "import datetime\n",
    "import pandas as pd\n",
    "from selenium import webdriver\n",
    "from selenium.webdriver.firefox.options import Options\n",
    "from selenium.webdriver.common.by import By\n",
    "from bs4 import BeautifulSoup"
   ]
  },
  {
   "cell_type": "code",
   "execution_count": 4,
   "metadata": {},
   "outputs": [
    {
     "name": "stdout",
     "output_type": "stream",
     "text": [
      "<selenium.webdriver.firefox.webdriver.WebDriver (session=\"0282f8e9-7e3b-4808-9053-4ba6bd5a76b3\")>\n"
     ]
    }
   ],
   "source": [
    "from key import user_name, password\n",
    "\n",
    "ACCOUNT = user_name\n",
    "PASSWORD = password\n",
    "# url = 'https://global.sbisec.co.jp/home'\n",
    "url = 'https://www.sbisec.co.jp/ETGate'\n",
    "\n",
    "def connect_sbi(ACCOUNT, PASSWORD, url):\n",
    "    options = Options()\n",
    "    \n",
    "    driver = webdriver.Firefox(options=options)\n",
    "    driver.get(url)\n",
    "\n",
    "    # ログイン処理\n",
    "    driver.find_element(By.NAME, 'user_id').send_keys(ACCOUNT)\n",
    "    driver.find_element(By.NAME, 'user_password').send_keys(PASSWORD)\n",
    "    driver.find_element(By.NAME, 'ACT_login').click()\n",
    "    \n",
    "    return driver\n",
    "\n",
    "print(connect_sbi(user_name, password, url))"
   ]
  },
  {
   "cell_type": "code",
   "execution_count": 4,
   "metadata": {},
   "outputs": [
    {
     "name": "stdout",
     "output_type": "stream",
     "text": [
      "<Response [200]>\n",
      "aaaaaaaaaa\n"
     ]
    }
   ],
   "source": [
    "import requests\n",
    "\n",
    "res = requests.post(\"http://127.0.0.1:8080\", data=\"aaaaaaaaaa\")\n",
    "print(res)\n",
    "print(res.text)"
   ]
  },
  {
   "cell_type": "code",
   "execution_count": null,
   "metadata": {},
   "outputs": [],
   "source": []
  },
  {
   "cell_type": "code",
   "execution_count": null,
   "metadata": {},
   "outputs": [],
   "source": []
  },
  {
   "cell_type": "code",
   "execution_count": null,
   "metadata": {},
   "outputs": [],
   "source": []
  }
 ],
 "metadata": {
  "kernelspec": {
   "display_name": "PBL_stock-HqIXwvyC",
   "language": "python",
   "name": "python3"
  },
  "language_info": {
   "codemirror_mode": {
    "name": "ipython",
    "version": 3
   },
   "file_extension": ".py",
   "mimetype": "text/x-python",
   "name": "python",
   "nbconvert_exporter": "python",
   "pygments_lexer": "ipython3",
   "version": "3.11.8"
  }
 },
 "nbformat": 4,
 "nbformat_minor": 2
}
