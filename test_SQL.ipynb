{
 "cells": [
  {
   "cell_type": "code",
   "execution_count": null,
   "metadata": {},
   "outputs": [],
   "source": [
    "%pip install mysql-connector-python"
   ]
  },
  {
   "cell_type": "code",
   "execution_count": 7,
   "metadata": {},
   "outputs": [],
   "source": [
    "import mysql.connector\n",
    "import pandas as pd"
   ]
  },
  {
   "cell_type": "code",
   "execution_count": 10,
   "metadata": {},
   "outputs": [
    {
     "name": "stdout",
     "output_type": "stream",
     "text": [
      "データベースに接続しました。\n"
     ]
    }
   ],
   "source": [
    "config = {\n",
    "    'user' : 'test',\n",
    "    'password' : 'a',\n",
    "    'host' : 'localhost',\n",
    "    'database' : 'test'\n",
    "}\n",
    "\n",
    "db = \"users\"\n",
    "\n",
    "# データベースへの接続\n",
    "try:\n",
    "    cnx = mysql.connector.connect(**config)\n",
    "    print(\"データベースに接続しました。\")\n",
    "except mysql.connector.Error as err:\n",
    "    print(f\"接続エラー: {err}\")"
   ]
  },
  {
   "cell_type": "code",
   "execution_count": 8,
   "metadata": {},
   "outputs": [
    {
     "name": "stdout",
     "output_type": "stream",
     "text": [
      "データベースに接続しました。\n"
     ]
    }
   ],
   "source": [
    "config = {\n",
    "    'user' : 'for_api',\n",
    "    'password' : 'for_api',\n",
    "    'host' : 'localhost',\n",
    "    'database' : 'for_api'\n",
    "}\n",
    "\n",
    "# データベースへの接続\n",
    "try:\n",
    "    cnx = mysql.connector.connect(**config)\n",
    "    print(\"データベースに接続しました。\")\n",
    "except mysql.connector.Error as err:\n",
    "    print(f\"接続エラー: {err}\")"
   ]
  },
  {
   "cell_type": "code",
   "execution_count": 11,
   "metadata": {},
   "outputs": [
    {
     "name": "stdout",
     "output_type": "stream",
     "text": [
      "(1, 'updated', 'updated@updated.com')\n"
     ]
    },
    {
     "data": {
      "text/plain": [
       "True"
      ]
     },
     "execution_count": 11,
     "metadata": {},
     "output_type": "execute_result"
    }
   ],
   "source": [
    "cursor = cnx.cursor()\n",
    "query = (f\"SELECT * FROM {db} WHERE id = 1;\")\n",
    "cursor.execute(query)\n",
    "\n",
    "for row in cursor:\n",
    "    print(row)\n",
    "\n",
    "cursor.close()\n"
   ]
  },
  {
   "cell_type": "markdown",
   "metadata": {},
   "source": [
    "閲覧"
   ]
  },
  {
   "cell_type": "code",
   "execution_count": 12,
   "metadata": {},
   "outputs": [
    {
     "name": "stdout",
     "output_type": "stream",
     "text": [
      "(1, 'updated', 'updated@updated.com')\n",
      "(2, 'test', 'test@test.com')\n",
      "(3, 'updated', 'updated@updated.com')\n",
      "(4, 'bbbbb', 'test@test.com')\n",
      "(5, 'testCreate', 'tetete@test.com')\n",
      "(7, 'testCreate', 'tetete@test.com')\n",
      "(8, 'testCreate', 'tetete@test.com')\n",
      "[\"(1, 'updated', 'updated@updated.com')\", \"(2, 'test', 'test@test.com')\", \"(3, 'updated', 'updated@updated.com')\", \"(4, 'bbbbb', 'test@test.com')\", \"(5, 'testCreate', 'tetete@test.com')\", \"(7, 'testCreate', 'tetete@test.com')\", \"(8, 'testCreate', 'tetete@test.com')\"]\n"
     ]
    }
   ],
   "source": [
    "cursor = cnx.cursor()\n",
    "# query = (\"SELECT email FROM users\")\n",
    "query = (f\"SELECT * FROM {db}\")\n",
    "cursor.execute(query)\n",
    "\n",
    "a = []\n",
    "\n",
    "for row in cursor:\n",
    "    print(row)\n",
    "    a.append(str(row))\n",
    "\n",
    "cursor.close()\n",
    "print(a)"
   ]
  },
  {
   "cell_type": "markdown",
   "metadata": {},
   "source": [
    "追加"
   ]
  },
  {
   "cell_type": "code",
   "execution_count": 13,
   "metadata": {},
   "outputs": [
    {
     "data": {
      "text/plain": [
       "True"
      ]
     },
     "execution_count": 13,
     "metadata": {},
     "output_type": "execute_result"
    }
   ],
   "source": [
    "cursor = cnx.cursor()\n",
    "query = (f\"INSERT INTO {db} (name, email) VALUES (%s, %s)\")\n",
    "values = (\"bbbbb\", \"test@test.com\")\n",
    "cursor.execute(query, values)\n",
    "\n",
    "# 実行した変更をデータベースに反映\n",
    "cnx.commit()\n",
    "cursor.close()\n"
   ]
  },
  {
   "cell_type": "markdown",
   "metadata": {},
   "source": [
    "update"
   ]
  },
  {
   "cell_type": "code",
   "execution_count": 7,
   "metadata": {},
   "outputs": [
    {
     "data": {
      "text/plain": [
       "True"
      ]
     },
     "execution_count": 7,
     "metadata": {},
     "output_type": "execute_result"
    }
   ],
   "source": [
    "cursor = cnx.cursor()\n",
    "query = (\"UPDATE users SET name = %s WHERE id = %s\")\n",
    "values = (\"test_UPDATE\", \"1\")\n",
    "cursor.execute(query, values)\n",
    "\n",
    "# 実行した変更をデータベースに反映\n",
    "cnx.commit()\n",
    "cursor.close()"
   ]
  },
  {
   "cell_type": "markdown",
   "metadata": {},
   "source": [
    "delete"
   ]
  },
  {
   "cell_type": "code",
   "execution_count": null,
   "metadata": {},
   "outputs": [],
   "source": [
    "cursor = cnx.cursor()\n",
    "query = (\"DELETE FROM test WHERE id = %s\")\n",
    "values = (\"1\")\n",
    "cursor.execute(query, values)\n",
    "\n",
    "# 実行した変更をデータベースに反映\n",
    "cnx.commit()\n",
    "cursor.close()"
   ]
  },
  {
   "cell_type": "code",
   "execution_count": null,
   "metadata": {},
   "outputs": [],
   "source": [
    "import requests\n",
    "\n",
    "res = requests.post(\"http://127.0.0.1:8080\", data=\"aaaaaaaaaa\")\n",
    "print(res)\n",
    "print(res.text)"
   ]
  },
  {
   "cell_type": "code",
   "execution_count": 10,
   "metadata": {},
   "outputs": [
    {
     "name": "stdout",
     "output_type": "stream",
     "text": [
      "Echo response: Hello, server!\n",
      "Create user status: 201\n",
      "\n",
      "400 Content type error\n"
     ]
    },
    {
     "ename": "JSONDecodeError",
     "evalue": "Expecting value: line 1 column 1 (char 0)",
     "output_type": "error",
     "traceback": [
      "\u001b[0;31m---------------------------------------------------------------------------\u001b[0m",
      "\u001b[0;31mJSONDecodeError\u001b[0m                           Traceback (most recent call last)",
      "File \u001b[0;32m~/.local/share/virtualenvs/PBL_stock-HqIXwvyC/lib/python3.11/site-packages/requests/models.py:971\u001b[0m, in \u001b[0;36mResponse.json\u001b[0;34m(self, **kwargs)\u001b[0m\n\u001b[1;32m    970\u001b[0m \u001b[38;5;28;01mtry\u001b[39;00m:\n\u001b[0;32m--> 971\u001b[0m     \u001b[38;5;28;01mreturn\u001b[39;00m \u001b[43mcomplexjson\u001b[49m\u001b[38;5;241;43m.\u001b[39;49m\u001b[43mloads\u001b[49m\u001b[43m(\u001b[49m\u001b[38;5;28;43mself\u001b[39;49m\u001b[38;5;241;43m.\u001b[39;49m\u001b[43mtext\u001b[49m\u001b[43m,\u001b[49m\u001b[43m \u001b[49m\u001b[38;5;241;43m*\u001b[39;49m\u001b[38;5;241;43m*\u001b[39;49m\u001b[43mkwargs\u001b[49m\u001b[43m)\u001b[49m\n\u001b[1;32m    972\u001b[0m \u001b[38;5;28;01mexcept\u001b[39;00m JSONDecodeError \u001b[38;5;28;01mas\u001b[39;00m e:\n\u001b[1;32m    973\u001b[0m     \u001b[38;5;66;03m# Catch JSON-related errors and raise as requests.JSONDecodeError\u001b[39;00m\n\u001b[1;32m    974\u001b[0m     \u001b[38;5;66;03m# This aliases json.JSONDecodeError and simplejson.JSONDecodeError\u001b[39;00m\n",
      "File \u001b[0;32m~/.pyenv/versions/3.11.7/lib/python3.11/json/__init__.py:346\u001b[0m, in \u001b[0;36mloads\u001b[0;34m(s, cls, object_hook, parse_float, parse_int, parse_constant, object_pairs_hook, **kw)\u001b[0m\n\u001b[1;32m    343\u001b[0m \u001b[38;5;28;01mif\u001b[39;00m (\u001b[38;5;28mcls\u001b[39m \u001b[38;5;129;01mis\u001b[39;00m \u001b[38;5;28;01mNone\u001b[39;00m \u001b[38;5;129;01mand\u001b[39;00m object_hook \u001b[38;5;129;01mis\u001b[39;00m \u001b[38;5;28;01mNone\u001b[39;00m \u001b[38;5;129;01mand\u001b[39;00m\n\u001b[1;32m    344\u001b[0m         parse_int \u001b[38;5;129;01mis\u001b[39;00m \u001b[38;5;28;01mNone\u001b[39;00m \u001b[38;5;129;01mand\u001b[39;00m parse_float \u001b[38;5;129;01mis\u001b[39;00m \u001b[38;5;28;01mNone\u001b[39;00m \u001b[38;5;129;01mand\u001b[39;00m\n\u001b[1;32m    345\u001b[0m         parse_constant \u001b[38;5;129;01mis\u001b[39;00m \u001b[38;5;28;01mNone\u001b[39;00m \u001b[38;5;129;01mand\u001b[39;00m object_pairs_hook \u001b[38;5;129;01mis\u001b[39;00m \u001b[38;5;28;01mNone\u001b[39;00m \u001b[38;5;129;01mand\u001b[39;00m \u001b[38;5;129;01mnot\u001b[39;00m kw):\n\u001b[0;32m--> 346\u001b[0m     \u001b[38;5;28;01mreturn\u001b[39;00m \u001b[43m_default_decoder\u001b[49m\u001b[38;5;241;43m.\u001b[39;49m\u001b[43mdecode\u001b[49m\u001b[43m(\u001b[49m\u001b[43ms\u001b[49m\u001b[43m)\u001b[49m\n\u001b[1;32m    347\u001b[0m \u001b[38;5;28;01mif\u001b[39;00m \u001b[38;5;28mcls\u001b[39m \u001b[38;5;129;01mis\u001b[39;00m \u001b[38;5;28;01mNone\u001b[39;00m:\n",
      "File \u001b[0;32m~/.pyenv/versions/3.11.7/lib/python3.11/json/decoder.py:337\u001b[0m, in \u001b[0;36mJSONDecoder.decode\u001b[0;34m(self, s, _w)\u001b[0m\n\u001b[1;32m    333\u001b[0m \u001b[38;5;250m\u001b[39m\u001b[38;5;124;03m\"\"\"Return the Python representation of ``s`` (a ``str`` instance\u001b[39;00m\n\u001b[1;32m    334\u001b[0m \u001b[38;5;124;03mcontaining a JSON document).\u001b[39;00m\n\u001b[1;32m    335\u001b[0m \n\u001b[1;32m    336\u001b[0m \u001b[38;5;124;03m\"\"\"\u001b[39;00m\n\u001b[0;32m--> 337\u001b[0m obj, end \u001b[38;5;241m=\u001b[39m \u001b[38;5;28;43mself\u001b[39;49m\u001b[38;5;241;43m.\u001b[39;49m\u001b[43mraw_decode\u001b[49m\u001b[43m(\u001b[49m\u001b[43ms\u001b[49m\u001b[43m,\u001b[49m\u001b[43m \u001b[49m\u001b[43midx\u001b[49m\u001b[38;5;241;43m=\u001b[39;49m\u001b[43m_w\u001b[49m\u001b[43m(\u001b[49m\u001b[43ms\u001b[49m\u001b[43m,\u001b[49m\u001b[43m \u001b[49m\u001b[38;5;241;43m0\u001b[39;49m\u001b[43m)\u001b[49m\u001b[38;5;241;43m.\u001b[39;49m\u001b[43mend\u001b[49m\u001b[43m(\u001b[49m\u001b[43m)\u001b[49m\u001b[43m)\u001b[49m\n\u001b[1;32m    338\u001b[0m end \u001b[38;5;241m=\u001b[39m _w(s, end)\u001b[38;5;241m.\u001b[39mend()\n",
      "File \u001b[0;32m~/.pyenv/versions/3.11.7/lib/python3.11/json/decoder.py:355\u001b[0m, in \u001b[0;36mJSONDecoder.raw_decode\u001b[0;34m(self, s, idx)\u001b[0m\n\u001b[1;32m    354\u001b[0m \u001b[38;5;28;01mexcept\u001b[39;00m \u001b[38;5;167;01mStopIteration\u001b[39;00m \u001b[38;5;28;01mas\u001b[39;00m err:\n\u001b[0;32m--> 355\u001b[0m     \u001b[38;5;28;01mraise\u001b[39;00m JSONDecodeError(\u001b[38;5;124m\"\u001b[39m\u001b[38;5;124mExpecting value\u001b[39m\u001b[38;5;124m\"\u001b[39m, s, err\u001b[38;5;241m.\u001b[39mvalue) \u001b[38;5;28;01mfrom\u001b[39;00m \u001b[38;5;28;01mNone\u001b[39;00m\n\u001b[1;32m    356\u001b[0m \u001b[38;5;28;01mreturn\u001b[39;00m obj, end\n",
      "\u001b[0;31mJSONDecodeError\u001b[0m: Expecting value: line 1 column 1 (char 0)",
      "\nDuring handling of the above exception, another exception occurred:\n",
      "\u001b[0;31mJSONDecodeError\u001b[0m                           Traceback (most recent call last)",
      "Cell \u001b[0;32mIn[10], line 70\u001b[0m\n\u001b[1;32m     68\u001b[0m test_echo()\n\u001b[1;32m     69\u001b[0m test_create_user()\n\u001b[0;32m---> 70\u001b[0m \u001b[43mget_users_table\u001b[49m\u001b[43m(\u001b[49m\u001b[43m)\u001b[49m\n\u001b[1;32m     71\u001b[0m update_user_name()\n\u001b[1;32m     72\u001b[0m get_users_table()\n",
      "Cell \u001b[0;32mIn[10], line 30\u001b[0m, in \u001b[0;36mget_users_table\u001b[0;34m()\u001b[0m\n\u001b[1;32m     28\u001b[0m response \u001b[38;5;241m=\u001b[39m requests\u001b[38;5;241m.\u001b[39mget(url, data\u001b[38;5;241m=\u001b[39mget_data)\n\u001b[1;32m     29\u001b[0m \u001b[38;5;28mprint\u001b[39m(response\u001b[38;5;241m.\u001b[39mstatus_code, response\u001b[38;5;241m.\u001b[39mtext)\n\u001b[0;32m---> 30\u001b[0m users_list \u001b[38;5;241m=\u001b[39m \u001b[43mresponse\u001b[49m\u001b[38;5;241;43m.\u001b[39;49m\u001b[43mjson\u001b[49m\u001b[43m(\u001b[49m\u001b[43m)\u001b[49m\n\u001b[1;32m     32\u001b[0m \u001b[38;5;66;03m# JSONデータをDataFrameに変換\u001b[39;00m\n\u001b[1;32m     33\u001b[0m df \u001b[38;5;241m=\u001b[39m pd\u001b[38;5;241m.\u001b[39mDataFrame(users_list)\n",
      "File \u001b[0;32m~/.local/share/virtualenvs/PBL_stock-HqIXwvyC/lib/python3.11/site-packages/requests/models.py:975\u001b[0m, in \u001b[0;36mResponse.json\u001b[0;34m(self, **kwargs)\u001b[0m\n\u001b[1;32m    971\u001b[0m     \u001b[38;5;28;01mreturn\u001b[39;00m complexjson\u001b[38;5;241m.\u001b[39mloads(\u001b[38;5;28mself\u001b[39m\u001b[38;5;241m.\u001b[39mtext, \u001b[38;5;241m*\u001b[39m\u001b[38;5;241m*\u001b[39mkwargs)\n\u001b[1;32m    972\u001b[0m \u001b[38;5;28;01mexcept\u001b[39;00m JSONDecodeError \u001b[38;5;28;01mas\u001b[39;00m e:\n\u001b[1;32m    973\u001b[0m     \u001b[38;5;66;03m# Catch JSON-related errors and raise as requests.JSONDecodeError\u001b[39;00m\n\u001b[1;32m    974\u001b[0m     \u001b[38;5;66;03m# This aliases json.JSONDecodeError and simplejson.JSONDecodeError\u001b[39;00m\n\u001b[0;32m--> 975\u001b[0m     \u001b[38;5;28;01mraise\u001b[39;00m RequestsJSONDecodeError(e\u001b[38;5;241m.\u001b[39mmsg, e\u001b[38;5;241m.\u001b[39mdoc, e\u001b[38;5;241m.\u001b[39mpos)\n",
      "\u001b[0;31mJSONDecodeError\u001b[0m: Expecting value: line 1 column 1 (char 0)"
     ]
    }
   ],
   "source": [
    "import requests\n",
    "import pandas as pd\n",
    "\n",
    "def test_echo():\n",
    "    url = \"http://127.0.0.1:8080/\"\n",
    "    data = \"Hello, server!\"\n",
    "    response = requests.post(url, data=data)\n",
    "    print(\"Echo response:\", response.text)\n",
    "\n",
    "def test_create_user():\n",
    "    url = \"http://127.0.0.1:8080/users\"\n",
    "    user_data = {\n",
    "        \"table\": \"users\",\n",
    "        \"name\": \"testCreate\",\n",
    "        \"email\": \"tetete@test.com\"\n",
    "    }\n",
    "    response = requests.post(url, json=user_data)\n",
    "    print(\"Create user status:\", response.status_code)\n",
    "    print(response.text)\n",
    "\n",
    "def get_users_table():\n",
    "    url = \"http://127.0.0.1:8080/users\"\n",
    "    \n",
    "    get_data = {\n",
    "        \"table\":\"users\",\n",
    "        \"columns\" : [\"id\", \"name\", \"email\"]\n",
    "    }\n",
    "    response = requests.get(url, data=get_data)\n",
    "    print(response.status_code, response.text)\n",
    "    users_list = response.json()\n",
    "\n",
    "    # JSONデータをDataFrameに変換\n",
    "    df = pd.DataFrame(users_list)\n",
    "    \n",
    "    # テーブル形式で表示\n",
    "    print(df)\n",
    "    \n",
    "def update_user_name():\n",
    "    url = \"http://127.0.0.1:8080/update\"\n",
    "    update_data = {\n",
    "        \"column\": \"name\",\n",
    "        \"data\": \"updated\",\n",
    "        \"update_id\": \"3\"\n",
    "    }\n",
    "    print(requests.post(url, json=update_data).status_code)\n",
    "    \n",
    "def update_user_email():\n",
    "    url = \"http://127.0.0.1:8080/update\"\n",
    "    update_data = {\n",
    "        \"table\": \"users\",\n",
    "        \"column\": \"email\",\n",
    "        \"data\": \"updated@updated.com\",\n",
    "        \"update_id\": \"3\"\n",
    "    }\n",
    "    print(requests.post(url, json=update_data).status_code)\n",
    "    \n",
    "def delete_user():\n",
    "    url = \"http://127.0.0.1:8080/delete\"\n",
    "    update_data = {\n",
    "        \"id\": \"50\"\n",
    "    }\n",
    "    \n",
    "    res = requests.post(url, json=update_data)\n",
    "    print(res.status_code)\n",
    "    print(res.text)\n",
    "\n",
    "if __name__ == \"__main__\":\n",
    "    test_echo()\n",
    "    test_create_user()\n",
    "    get_users_table()\n",
    "    update_user_name()\n",
    "    get_users_table()\n",
    "    update_user_email()\n",
    "    get_users_table()\n",
    "    delete_user()\n",
    "    get_users_table()\n",
    "    \n",
    "    "
   ]
  },
  {
   "cell_type": "code",
   "execution_count": 5,
   "metadata": {},
   "outputs": [
    {
     "name": "stdout",
     "output_type": "stream",
     "text": [
      "a,c,\n"
     ]
    }
   ],
   "source": [
    "a = ['a', 'b', 'c']\n",
    "\n",
    "b = ['a', 'c']\n",
    "\n",
    "d = ''\n",
    "\n",
    "for e in b:\n",
    "    if e in a:\n",
    "        d = d + e + \",\"\n",
    "\n",
    "print(d)"
   ]
  },
  {
   "cell_type": "code",
   "execution_count": 13,
   "metadata": {},
   "outputs": [
    {
     "name": "stdout",
     "output_type": "stream",
     "text": [
      "Testing ECHO...\n",
      "Status Code: 200\n",
      "Response: Hello, Server!\n",
      "\n",
      "Testing CREATE USER...\n",
      "Status Code: 201\n",
      "Response: \n",
      "\n",
      "Testing GET USERS...\n",
      "Status Code: 200\n",
      "\n",
      "    id        name                email\n",
      "0    2        test        test@test.com\n",
      "1    3     updated  updated@updated.com\n",
      "2    4       bbbbb        test@test.com\n",
      "3    5  testCreate      tetete@test.com\n",
      "4    7  testCreate      tetete@test.com\n",
      "5    8  testCreate      tetete@test.com\n",
      "6    9       bbbbb        test@test.com\n",
      "7   10  testCreate      tetete@test.com\n",
      "8   11  testCreate      tetete@test.com\n",
      "9   12  testCreate      tetete@test.com\n",
      "10  13  testCreate      tetete@test.com\n",
      "11  14  testCreate      tetete@test.com\n",
      "12  15    John Doe     john@example.com\n",
      "13  16  testCreate      tetete@test.com\n",
      "14  17    John Doe     john@example.com\n",
      "15  18    John Doe     john@example.com\n",
      "16  19    John Doe     john@example.com\n",
      "Testing UPDATE USER...\n",
      "Status Code: 201\n",
      "Response: \n",
      "\n",
      "Testing GET USERS...\n",
      "Status Code: 200\n",
      "\n",
      "    id        name                email\n",
      "0    2        test        test@test.com\n",
      "1    3     updated  updated@updated.com\n",
      "2    4       bbbbb        test@test.com\n",
      "3    5  testCreate      tetete@test.com\n",
      "4    7  testCreate      tetete@test.com\n",
      "5    8  testCreate      tetete@test.com\n",
      "6    9       bbbbb        test@test.com\n",
      "7   10  testCreate      tetete@test.com\n",
      "8   11  testCreate      tetete@test.com\n",
      "9   12  testCreate      tetete@test.com\n",
      "10  13  testCreate      tetete@test.com\n",
      "11  14  testCreate      tetete@test.com\n",
      "12  15    John Doe     john@example.com\n",
      "13  16  testCreate      tetete@test.com\n",
      "14  17    John Doe     john@example.com\n",
      "15  18    John Doe     john@example.com\n",
      "16  19    John Doe     john@example.com\n",
      "Testing DELETE USER...\n",
      "Status Code: 200\n",
      "Response: User deleted successfully\n",
      "\n",
      "Testing GET USERS...\n",
      "Status Code: 200\n",
      "\n",
      "    id        name             email\n",
      "0    2        test     test@test.com\n",
      "1    4       bbbbb     test@test.com\n",
      "2    5  testCreate   tetete@test.com\n",
      "3    7  testCreate   tetete@test.com\n",
      "4    8  testCreate   tetete@test.com\n",
      "5    9       bbbbb     test@test.com\n",
      "6   10  testCreate   tetete@test.com\n",
      "7   11  testCreate   tetete@test.com\n",
      "8   12  testCreate   tetete@test.com\n",
      "9   13  testCreate   tetete@test.com\n",
      "10  14  testCreate   tetete@test.com\n",
      "11  15    John Doe  john@example.com\n",
      "12  16  testCreate   tetete@test.com\n",
      "13  17    John Doe  john@example.com\n",
      "14  18    John Doe  john@example.com\n",
      "15  19    John Doe  john@example.com\n"
     ]
    }
   ],
   "source": [
    "import requests\n",
    "\n",
    "# APIサーバーのURL\n",
    "BASE_URL = 'http://127.0.0.1:8080'\n",
    "\n",
    "def test_echo():\n",
    "    print(\"Testing ECHO...\")\n",
    "    response = requests.post(f\"{BASE_URL}/\", data=\"Hello, Server!\")\n",
    "    print(\"Status Code:\", response.status_code)\n",
    "    print(\"Response:\", response.text)\n",
    "    print()\n",
    "\n",
    "def test_create_user():\n",
    "    print(\"Testing CREATE USER...\")\n",
    "    user_data = {\n",
    "        \"table\": \"users\",\n",
    "        \"name\": \"John Doe\",\n",
    "        \"email\": \"john@example.com\"\n",
    "    }\n",
    "    response = requests.post(f\"{BASE_URL}/users\", json=user_data)\n",
    "    print(\"Status Code:\", response.status_code)\n",
    "    print(\"Response:\", response.text)\n",
    "    print()\n",
    "\n",
    "def test_get_users():\n",
    "    print(\"Testing GET USERS...\")\n",
    "    query_data = {\n",
    "        \"table\": \"users\",\n",
    "        \"columns\": [\"id\", \"name\", \"email\"]\n",
    "    }\n",
    "    response = requests.get(f\"{BASE_URL}/users\", json=query_data)\n",
    "    print(\"Status Code:\", response.status_code)\n",
    "    # print(\"Response:\", json.dumps(response.json(), indent=4))\n",
    "    print()\n",
    "    # print(response.status_code, response.text)\n",
    "    users_list = response.json()\n",
    "\n",
    "    # JSONデータをDataFrameに変換\n",
    "    df = pd.DataFrame(users_list)\n",
    "    \n",
    "    # テーブル形式で表示\n",
    "    print(df)\n",
    "\n",
    "def test_update_user():\n",
    "    print(\"Testing UPDATE USER...\")\n",
    "    update_data = {\n",
    "        \"column\": \"name\",\n",
    "        \"data\": \"Jane Doe\",\n",
    "        \"update_id\": \"1\"  # Assume this user ID exists\n",
    "    }\n",
    "    response = requests.post(f\"{BASE_URL}/update\", json=update_data)\n",
    "    print(\"Status Code:\", response.status_code)\n",
    "    print(\"Response:\", response.text)\n",
    "    print()\n",
    "\n",
    "def test_delete_user():\n",
    "    print(\"Testing DELETE USER...\")\n",
    "    delete_data = {\n",
    "        \"id\": \"3\"  # Assume this user ID exists\n",
    "    }\n",
    "    response = requests.post(f\"{BASE_URL}/delete\", json=delete_data)\n",
    "    print(\"Status Code:\", response.status_code)\n",
    "    print(\"Response:\", response.text)\n",
    "    print()\n",
    "\n",
    "def run_tests():\n",
    "    test_echo()\n",
    "    test_create_user()\n",
    "    test_get_users()\n",
    "    test_update_user()\n",
    "    test_get_users()\n",
    "    test_delete_user()\n",
    "    test_get_users()\n",
    "\n",
    "if __name__ == \"__main__\":\n",
    "    run_tests()\n"
   ]
  },
  {
   "cell_type": "code",
   "execution_count": null,
   "metadata": {},
   "outputs": [],
   "source": []
  }
 ],
 "metadata": {
  "kernelspec": {
   "display_name": "SQL_test-Y8852erU",
   "language": "python",
   "name": "python3"
  },
  "language_info": {
   "codemirror_mode": {
    "name": "ipython",
    "version": 3
   },
   "file_extension": ".py",
   "mimetype": "text/x-python",
   "name": "python",
   "nbconvert_exporter": "python",
   "pygments_lexer": "ipython3",
   "version": "3.11.7"
  }
 },
 "nbformat": 4,
 "nbformat_minor": 2
}
