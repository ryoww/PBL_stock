{
 "cells": [
  {
   "cell_type": "code",
   "execution_count": null,
   "metadata": {},
   "outputs": [],
   "source": [
    "%pip install mysql-connector-python"
   ]
  },
  {
   "cell_type": "code",
   "execution_count": 1,
   "metadata": {},
   "outputs": [],
   "source": [
    "import mysql.connector\n",
    "import pandas as pd"
   ]
  },
  {
   "cell_type": "code",
   "execution_count": 10,
   "metadata": {},
   "outputs": [
    {
     "name": "stdout",
     "output_type": "stream",
     "text": [
      "データベースに接続しました。\n"
     ]
    }
   ],
   "source": [
    "config = {\n",
    "    'user' : 'test',\n",
    "    'password' : 'a',\n",
    "    'host' : 'localhost',\n",
    "    'database' : 'test'\n",
    "}\n",
    "\n",
    "db = \"users\"\n",
    "\n",
    "# データベースへの接続\n",
    "try:\n",
    "    cnx = mysql.connector.connect(**config)\n",
    "    print(\"データベースに接続しました。\")\n",
    "except mysql.connector.Error as err:\n",
    "    print(f\"接続エラー: {err}\")"
   ]
  },
  {
   "cell_type": "code",
   "execution_count": 4,
   "metadata": {},
   "outputs": [
    {
     "name": "stdout",
     "output_type": "stream",
     "text": [
      "データベースに接続しました。\n"
     ]
    }
   ],
   "source": [
    "config = {\n",
    "    'user' : 'for_api',\n",
    "    'password' : 'for_api',\n",
    "    'host' : 'localhost',\n",
    "    'database' : 'for_api'\n",
    "}\n",
    "\n",
    "db = \"test\"\n",
    "\n",
    "# データベースへの接続\n",
    "try:\n",
    "    cnx = mysql.connector.connect(**config)\n",
    "    print(\"データベースに接続しました。\")\n",
    "except mysql.connector.Error as err:\n",
    "    print(f\"接続エラー: {err}\")"
   ]
  },
  {
   "cell_type": "code",
   "execution_count": 6,
   "metadata": {},
   "outputs": [
    {
     "name": "stdout",
     "output_type": "stream",
     "text": [
      "(1, 'test_UPDATE')\n",
      "(2, 'Alice')\n",
      "(3, 'test')\n",
      "(5, 'Jane Doe')\n",
      "(6, 'testCreate')\n",
      "(7, 'John Doe')\n",
      "(8, 'John Doe')\n"
     ]
    },
    {
     "data": {
      "text/plain": [
       "True"
      ]
     },
     "execution_count": 6,
     "metadata": {},
     "output_type": "execute_result"
    }
   ],
   "source": [
    "cursor = cnx.cursor()\n",
    "query = (f\"SELECT id, name as value FROM {db};\")\n",
    "cursor.execute(query)\n",
    "\n",
    "for row in cursor:\n",
    "    print(row)\n",
    "\n",
    "cursor.close()\n"
   ]
  },
  {
   "cell_type": "markdown",
   "metadata": {},
   "source": [
    "閲覧"
   ]
  },
  {
   "cell_type": "code",
   "execution_count": 12,
   "metadata": {},
   "outputs": [
    {
     "name": "stdout",
     "output_type": "stream",
     "text": [
      "(1, 'updated', 'updated@updated.com')\n",
      "(2, 'test', 'test@test.com')\n",
      "(3, 'updated', 'updated@updated.com')\n",
      "(4, 'bbbbb', 'test@test.com')\n",
      "(5, 'testCreate', 'tetete@test.com')\n",
      "(7, 'testCreate', 'tetete@test.com')\n",
      "(8, 'testCreate', 'tetete@test.com')\n",
      "[\"(1, 'updated', 'updated@updated.com')\", \"(2, 'test', 'test@test.com')\", \"(3, 'updated', 'updated@updated.com')\", \"(4, 'bbbbb', 'test@test.com')\", \"(5, 'testCreate', 'tetete@test.com')\", \"(7, 'testCreate', 'tetete@test.com')\", \"(8, 'testCreate', 'tetete@test.com')\"]\n"
     ]
    }
   ],
   "source": [
    "cursor = cnx.cursor()\n",
    "# query = (\"SELECT email FROM users\")\n",
    "query = (f\"SELECT * FROM {db}\")\n",
    "cursor.execute(query)\n",
    "\n",
    "a = []\n",
    "\n",
    "for row in cursor:\n",
    "    print(row)\n",
    "    a.append(str(row))\n",
    "\n",
    "cursor.close()\n",
    "print(a)"
   ]
  },
  {
   "cell_type": "markdown",
   "metadata": {},
   "source": [
    "追加"
   ]
  },
  {
   "cell_type": "code",
   "execution_count": 13,
   "metadata": {},
   "outputs": [
    {
     "data": {
      "text/plain": [
       "True"
      ]
     },
     "execution_count": 13,
     "metadata": {},
     "output_type": "execute_result"
    }
   ],
   "source": [
    "cursor = cnx.cursor()\n",
    "query = (f\"INSERT INTO {db} (name, email) VALUES (%s, %s)\")\n",
    "values = (\"bbbbb\", \"test@test.com\")\n",
    "cursor.execute(query, values)\n",
    "\n",
    "# 実行した変更をデータベースに反映\n",
    "cnx.commit()\n",
    "cursor.close()\n"
   ]
  },
  {
   "cell_type": "markdown",
   "metadata": {},
   "source": [
    "update"
   ]
  },
  {
   "cell_type": "code",
   "execution_count": 7,
   "metadata": {},
   "outputs": [
    {
     "data": {
      "text/plain": [
       "True"
      ]
     },
     "execution_count": 7,
     "metadata": {},
     "output_type": "execute_result"
    }
   ],
   "source": [
    "cursor = cnx.cursor()\n",
    "query = (\"UPDATE users SET name = %s WHERE id = %s\")\n",
    "values = (\"test_UPDATE\", \"1\")\n",
    "cursor.execute(query, values)\n",
    "\n",
    "# 実行した変更をデータベースに反映\n",
    "cnx.commit()\n",
    "cursor.close()"
   ]
  },
  {
   "cell_type": "markdown",
   "metadata": {},
   "source": [
    "delete"
   ]
  },
  {
   "cell_type": "code",
   "execution_count": null,
   "metadata": {},
   "outputs": [],
   "source": [
    "cursor = cnx.cursor()\n",
    "query = (\"DELETE FROM test WHERE id = %s\")\n",
    "values = (\"1\")\n",
    "cursor.execute(query, values)\n",
    "\n",
    "# 実行した変更をデータベースに反映\n",
    "cnx.commit()\n",
    "cursor.close()"
   ]
  },
  {
   "cell_type": "code",
   "execution_count": null,
   "metadata": {},
   "outputs": [],
   "source": [
    "import requests\n",
    "\n",
    "res = requests.post(\"http://127.0.0.1:8080\", data=\"aaaaaaaaaa\")\n",
    "print(res)\n",
    "print(res.text)"
   ]
  },
  {
   "cell_type": "code",
   "execution_count": 20,
   "metadata": {},
   "outputs": [
    {
     "name": "stdout",
     "output_type": "stream",
     "text": [
      "Testing ECHO...\n",
      "Status Code: 200\n",
      "Response: Hello, Server!\n",
      "\n",
      "Testing CREATE USER...\n",
      "Status Code: 201\n",
      "Response: \n",
      "\n",
      "Testing GET USERS...\n",
      "Status Code: 200\n",
      "    id         name                email\n",
      "0    1  test_UPDATE        test@test.com\n",
      "1    2        Alice    alice@example.com\n",
      "2    3         test        test@test.com\n",
      "3    5     Jane Doe  johndoe@example.com\n",
      "4    6   testCreate      tetete@test.com\n",
      "5    7     John Doe     john@example.com\n",
      "6    8     John Doe     john@example.com\n",
      "7    9     John Doe     john@example.com\n",
      "8   10     John Doe     john@example.com\n",
      "9   11     John Doe     john@example.com\n",
      "10  12     John Doe     john@example.com\n",
      "11  13     John Doe     john@example.com\n",
      "12  14     John Doe     john@example.com\n",
      "13  15     John Doe     john@example.com\n",
      "14  16     John Doe     john@example.com\n",
      "15  17     John Doe     john@example.com\n",
      "16  18     John Doe     john@example.com\n",
      "17  19     John Doe     john@example.com\n",
      "18  20     John Doe     john@example.com\n",
      "Testing GET COLUMN...\n",
      "Status Code: 200\n",
      "[{'id': 1, 'data': 'test_UPDATE'}, {'id': 2, 'data': 'Alice'}, {'id': 3, 'data': 'test'}, {'id': 5, 'data': 'Jane Doe'}, {'id': 6, 'data': 'testCreate'}, {'id': 7, 'data': 'John Doe'}, {'id': 8, 'data': 'John Doe'}, {'id': 9, 'data': 'John Doe'}, {'id': 10, 'data': 'John Doe'}, {'id': 11, 'data': 'John Doe'}, {'id': 12, 'data': 'John Doe'}, {'id': 13, 'data': 'John Doe'}, {'id': 14, 'data': 'John Doe'}, {'id': 15, 'data': 'John Doe'}, {'id': 16, 'data': 'John Doe'}, {'id': 17, 'data': 'John Doe'}, {'id': 18, 'data': 'John Doe'}, {'id': 19, 'data': 'John Doe'}, {'id': 20, 'data': 'John Doe'}]\n",
      "    id         data\n",
      "0    1  test_UPDATE\n",
      "1    2        Alice\n",
      "2    3         test\n",
      "3    5     Jane Doe\n",
      "4    6   testCreate\n",
      "5    7     John Doe\n",
      "6    8     John Doe\n",
      "7    9     John Doe\n",
      "8   10     John Doe\n",
      "9   11     John Doe\n",
      "10  12     John Doe\n",
      "11  13     John Doe\n",
      "12  14     John Doe\n",
      "13  15     John Doe\n",
      "14  16     John Doe\n",
      "15  17     John Doe\n",
      "16  18     John Doe\n",
      "17  19     John Doe\n",
      "18  20     John Doe\n"
     ]
    }
   ],
   "source": [
    "import requests\n",
    "\n",
    "# APIサーバーのURL\n",
    "BASE_URL = 'http://127.0.0.1:8080'\n",
    "\n",
    "dbname = \"test\"\n",
    "\n",
    "def test_echo():\n",
    "    print(\"Testing ECHO...\")\n",
    "    response = requests.post(f\"{BASE_URL}/\", data=\"Hello, Server!\")\n",
    "    print(\"Status Code:\", response.status_code)\n",
    "    print(\"Response:\", response.text)\n",
    "    print()\n",
    "\n",
    "def test_create_user():\n",
    "    print(\"Testing CREATE USER...\")\n",
    "    user_data = {\n",
    "        \"table\": dbname,\n",
    "        \"name\": \"John Doe\",\n",
    "        \"email\": \"john@example.com\"\n",
    "    }\n",
    "    response = requests.post(f\"{BASE_URL}/users\", json=user_data)\n",
    "    print(\"Status Code:\", response.status_code)\n",
    "    print(\"Response:\", response.text)\n",
    "    print()\n",
    "\n",
    "def test_get_users():\n",
    "    print(\"Testing GET USERS...\")\n",
    "    query_data = {\n",
    "        \"table\": dbname,\n",
    "        \"columns\": [\"id\", \"name\", \"email\"]\n",
    "    }\n",
    "    response = requests.get(f\"{BASE_URL}/users\", json=query_data)\n",
    "    print(\"Status Code:\", response.status_code)\n",
    "    users_list = response.json()\n",
    "\n",
    "    # JSONデータをDataFrameに変換\n",
    "    df = pd.DataFrame(users_list)\n",
    "    \n",
    "    # テーブル形式で表示\n",
    "    print(df)\n",
    "\n",
    "def test_get_column():\n",
    "    print(\"Testing GET COLUMN...\")\n",
    "    query_data = {\n",
    "        \"table\": dbname,\n",
    "        \"column\": \"name\"\n",
    "    }\n",
    "    response = requests.get(f\"{BASE_URL}/column\", json=query_data)\n",
    "    print(\"Status Code:\", response.status_code)\n",
    "    users_list = response.json()\n",
    "    print(users_list)\n",
    "    \n",
    "    # JSONデータをDataFrameに変換\n",
    "    df = pd.DataFrame(users_list)  # 単一の辞書をリストに入れています。\n",
    "    \n",
    "    # テーブル形式で表示\n",
    "    print(df)\n",
    "\n",
    "def test_update_user():\n",
    "    print(\"Testing UPDATE USER...\")\n",
    "    update_data = {\n",
    "        \"table\": dbname,\n",
    "        \"column\": \"name\",\n",
    "        \"data\": \"Jane Doe\",\n",
    "        \"update_id\": \"5\"  # Assume this user ID exists\n",
    "    }\n",
    "    response = requests.post(f\"{BASE_URL}/update\", json=update_data)\n",
    "    print(\"Status Code:\", response.status_code)\n",
    "    print(\"Response:\", response.text)\n",
    "    print()\n",
    "\n",
    "def test_delete_user():\n",
    "    print(\"Testing DELETE USER...\")\n",
    "    delete_data = {\n",
    "        \"table\": dbname,\n",
    "        \"id\": \"4\"  # Assume this user ID exists\n",
    "    }\n",
    "    response = requests.delete(f\"{BASE_URL}/delete\", json=delete_data)\n",
    "    print(\"Status Code:\", response.status_code)\n",
    "    print(\"Response:\", response.text)\n",
    "    print()\n",
    "\n",
    "def run_tests():\n",
    "    test_echo()\n",
    "    test_create_user()\n",
    "    test_get_users()\n",
    "    test_get_column()\n",
    "    # test_update_user()\n",
    "    # test_get_users()\n",
    "    # test_delete_user()\n",
    "    # test_get_users()\n",
    "\n",
    "if __name__ == \"__main__\":\n",
    "    run_tests()\n"
   ]
  },
  {
   "cell_type": "code",
   "execution_count": null,
   "metadata": {},
   "outputs": [],
   "source": []
  }
 ],
 "metadata": {
  "kernelspec": {
   "display_name": "SQL_test-Y8852erU",
   "language": "python",
   "name": "python3"
  },
  "language_info": {
   "codemirror_mode": {
    "name": "ipython",
    "version": 3
   },
   "file_extension": ".py",
   "mimetype": "text/x-python",
   "name": "python",
   "nbconvert_exporter": "python",
   "pygments_lexer": "ipython3",
   "version": "3.11.8"
  }
 },
 "nbformat": 4,
 "nbformat_minor": 2
}
