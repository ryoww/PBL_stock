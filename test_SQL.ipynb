{
 "cells": [
  {
   "cell_type": "code",
   "execution_count": 4,
   "metadata": {},
   "outputs": [
    {
     "name": "stdout",
     "output_type": "stream",
     "text": [
      "Collecting mysql-connector-python\n",
      "  Using cached mysql_connector_python-8.3.0-cp311-cp311-manylinux_2_17_x86_64.whl.metadata (1.9 kB)\n",
      "Using cached mysql_connector_python-8.3.0-cp311-cp311-manylinux_2_17_x86_64.whl (21.5 MB)\n",
      "Installing collected packages: mysql-connector-python\n",
      "Successfully installed mysql-connector-python-8.3.0\n",
      "Note: you may need to restart the kernel to use updated packages.\n"
     ]
    }
   ],
   "source": [
    "%pip install mysql-connector-python"
   ]
  },
  {
   "cell_type": "code",
   "execution_count": 1,
   "metadata": {},
   "outputs": [],
   "source": [
    "import mysql.connector\n",
    "import pandas as pd"
   ]
  },
  {
   "cell_type": "code",
   "execution_count": 2,
   "metadata": {},
   "outputs": [
    {
     "name": "stdout",
     "output_type": "stream",
     "text": [
      "データベースに接続しました。\n"
     ]
    }
   ],
   "source": [
    "config = {\n",
    "    'user' : 'test',\n",
    "    'password' : 'a',\n",
    "    'host' : 'localhost',\n",
    "    'database' : 'test'\n",
    "}\n",
    "\n",
    "# データベースへの接続\n",
    "try:\n",
    "    cnx = mysql.connector.connect(**config)\n",
    "    print(\"データベースに接続しました。\")\n",
    "except mysql.connector.Error as err:\n",
    "    print(f\"接続エラー: {err}\")"
   ]
  },
  {
   "cell_type": "code",
   "execution_count": 17,
   "metadata": {},
   "outputs": [
    {
     "name": "stdout",
     "output_type": "stream",
     "text": [
      "(1, 'Alice', 'alice@example.com')\n"
     ]
    },
    {
     "data": {
      "text/plain": [
       "True"
      ]
     },
     "execution_count": 17,
     "metadata": {},
     "output_type": "execute_result"
    }
   ],
   "source": [
    "cursor = cnx.cursor()\n",
    "query = (\"SELECT * FROM users WHERE id = 1;\")\n",
    "cursor.execute(query)\n",
    "\n",
    "for row in cursor:\n",
    "    print(row)\n",
    "\n",
    "cursor.close()\n"
   ]
  },
  {
   "cell_type": "markdown",
   "metadata": {},
   "source": [
    "閲覧"
   ]
  },
  {
   "cell_type": "code",
   "execution_count": 7,
   "metadata": {},
   "outputs": [
    {
     "name": "stdout",
     "output_type": "stream",
     "text": [
      "(1, 'test', 'test@test.com')\n",
      "[\"(1, 'test', 'test@test.com')\"]\n"
     ]
    }
   ],
   "source": [
    "cursor = cnx.cursor()\n",
    "# query = (\"SELECT email FROM users\")\n",
    "query = (\"SELECT * FROM test\")\n",
    "cursor.execute(query)\n",
    "\n",
    "a = []\n",
    "\n",
    "for row in cursor:\n",
    "    print(row)\n",
    "    a.append(str(row))\n",
    "\n",
    "cursor.close()\n",
    "print(a)"
   ]
  },
  {
   "cell_type": "markdown",
   "metadata": {},
   "source": [
    "追加"
   ]
  },
  {
   "cell_type": "code",
   "execution_count": 14,
   "metadata": {},
   "outputs": [
    {
     "data": {
      "text/plain": [
       "True"
      ]
     },
     "execution_count": 14,
     "metadata": {},
     "output_type": "execute_result"
    }
   ],
   "source": [
    "cursor = cnx.cursor()\n",
    "query = (\"INSERT INTO test (name, email) VALUES (%s, %s)\")\n",
    "values = (\"test\", \"test@test.com\")\n",
    "cursor.execute(query, values)\n",
    "\n",
    "# 実行した変更をデータベースに反映\n",
    "cnx.commit()\n",
    "cursor.close()\n"
   ]
  },
  {
   "cell_type": "markdown",
   "metadata": {},
   "source": [
    "update"
   ]
  },
  {
   "cell_type": "code",
   "execution_count": 16,
   "metadata": {},
   "outputs": [
    {
     "data": {
      "text/plain": [
       "True"
      ]
     },
     "execution_count": 16,
     "metadata": {},
     "output_type": "execute_result"
    }
   ],
   "source": [
    "cursor = cnx.cursor()\n",
    "query = (\"UPDATE test SET name = %s WHERE id = %s\")\n",
    "values = (\"test_UPDATE\", \"1\")\n",
    "cursor.execute(query, values)\n",
    "\n",
    "# 実行した変更をデータベースに反映\n",
    "cnx.commit()\n",
    "cursor.close()"
   ]
  },
  {
   "cell_type": "markdown",
   "metadata": {},
   "source": [
    "delete"
   ]
  },
  {
   "cell_type": "code",
   "execution_count": null,
   "metadata": {},
   "outputs": [],
   "source": [
    "cursor = cnx.cursor()\n",
    "query = (\"DELETE FROM test WHERE id = %s\")\n",
    "values = (\"1\")\n",
    "cursor.execute(query, values)\n",
    "\n",
    "# 実行した変更をデータベースに反映\n",
    "cnx.commit()\n",
    "cursor.close()"
   ]
  },
  {
   "cell_type": "code",
   "execution_count": null,
   "metadata": {},
   "outputs": [],
   "source": [
    "import requests\n",
    "\n",
    "res = requests.post(\"http://127.0.0.1:8080\", data=\"aaaaaaaaaa\")\n",
    "print(res)\n",
    "print(res.text)"
   ]
  },
  {
   "cell_type": "code",
   "execution_count": null,
   "metadata": {},
   "outputs": [
    {
     "name": "stdout",
     "output_type": "stream",
     "text": [
      "Echo response: Hello, server!\n",
      "Create user status: 201\n",
      "   id         name                email\n",
      "0   1  test_UPDATE        test@test.com\n",
      "1   2        Alice    alice@example.com\n",
      "2   3         test        test@test.com\n",
      "3   4     John Doe  johndoe@example.com\n",
      "4   5     John Doe  johndoe@example.com\n",
      "5   6   testCreate      tetete@test.com\n"
     ]
    }
   ],
   "source": [
    "import requests\n",
    "import pandas as pd\n",
    "\n",
    "def test_echo():\n",
    "    url = \"http://127.0.0.1:8080/\"\n",
    "    data = \"Hello, server!\"\n",
    "    response = requests.post(url, data=data)\n",
    "    print(\"Echo response:\", response.text)\n",
    "\n",
    "def test_create_user():\n",
    "    url = \"http://127.0.0.1:8080/users\"\n",
    "    user_data = {\n",
    "        \"name\": \"testCreate\",\n",
    "        \"email\": \"tetete@test.com\"\n",
    "    }\n",
    "    response = requests.post(url, json=user_data)\n",
    "    print(\"Create user status:\", response.status_code)\n",
    "\n",
    "def get_users_table():\n",
    "    url = \"http://127.0.0.1:8080/users\"\n",
    "    response = requests.get(url)\n",
    "    users_list = response.json()\n",
    "\n",
    "    # JSONデータをDataFrameに変換\n",
    "    df = pd.DataFrame(users_list)\n",
    "    \n",
    "    # テーブル形式で表示\n",
    "    print(df)\n",
    "\n",
    "if __name__ == \"__main__\":\n",
    "    test_echo()\n",
    "    # test_create_user()\n",
    "    get_users_table()\n"
   ]
  },
  {
   "cell_type": "code",
   "execution_count": null,
   "metadata": {},
   "outputs": [],
   "source": []
  }
 ],
 "metadata": {
  "kernelspec": {
   "display_name": "SQL_test-Y8852erU",
   "language": "python",
   "name": "python3"
  },
  "language_info": {
   "codemirror_mode": {
    "name": "ipython",
    "version": 3
   },
   "file_extension": ".py",
   "mimetype": "text/x-python",
   "name": "python",
   "nbconvert_exporter": "python",
   "pygments_lexer": "ipython3",
   "version": "3.11.7"
  }
 },
 "nbformat": 4,
 "nbformat_minor": 2
}
