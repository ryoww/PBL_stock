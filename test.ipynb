{
 "cells": [
  {
   "cell_type": "code",
   "execution_count": 1,
   "metadata": {},
   "outputs": [
    {
     "ename": "ImportError",
     "evalue": "cannot import name 'id' from 'key' (c:\\programs\\PBL_stock\\key.py)",
     "output_type": "error",
     "traceback": [
      "\u001b[1;31m---------------------------------------------------------------------------\u001b[0m",
      "\u001b[1;31mImportError\u001b[0m                               Traceback (most recent call last)",
      "Cell \u001b[1;32mIn[1], line 6\u001b[0m\n\u001b[0;32m      3\u001b[0m \u001b[38;5;28;01mfrom\u001b[39;00m \u001b[38;5;21;01mselenium\u001b[39;00m\u001b[38;5;21;01m.\u001b[39;00m\u001b[38;5;21;01mwebdriver\u001b[39;00m\u001b[38;5;21;01m.\u001b[39;00m\u001b[38;5;21;01mcommon\u001b[39;00m\u001b[38;5;21;01m.\u001b[39;00m\u001b[38;5;21;01mby\u001b[39;00m \u001b[38;5;28;01mimport\u001b[39;00m By\n\u001b[0;32m      5\u001b[0m \u001b[38;5;28;01mimport\u001b[39;00m \u001b[38;5;21;01mtime\u001b[39;00m\n\u001b[1;32m----> 6\u001b[0m \u001b[38;5;28;01mfrom\u001b[39;00m \u001b[38;5;21;01mkey\u001b[39;00m \u001b[38;5;28;01mimport\u001b[39;00m \u001b[38;5;28mid\u001b[39m, password\n\u001b[0;32m      8\u001b[0m prefs \u001b[38;5;241m=\u001b[39m {\n\u001b[0;32m      9\u001b[0m         \u001b[38;5;124m\"\u001b[39m\u001b[38;5;124mdownload.default_directory\u001b[39m\u001b[38;5;124m\"\u001b[39m: \u001b[38;5;124m\"\u001b[39m\u001b[38;5;124mC:\u001b[39m\u001b[38;5;130;01m\\\\\u001b[39;00m\u001b[38;5;124mUsers\u001b[39m\u001b[38;5;130;01m\\\\\u001b[39;00m\u001b[38;5;124mMIRAI\u001b[39m\u001b[38;5;130;01m\\\\\u001b[39;00m\u001b[38;5;124mprograms\u001b[39m\u001b[38;5;130;01m\\\\\u001b[39;00m\u001b[38;5;124msyllabus\u001b[39m\u001b[38;5;130;01m\\\\\u001b[39;00m\u001b[38;5;124mpdf\u001b[39m\u001b[38;5;130;01m\\\\\u001b[39;00m\u001b[38;5;124m\"\u001b[39m,\n\u001b[0;32m     10\u001b[0m         \u001b[38;5;124m\"\u001b[39m\u001b[38;5;124mdownload.prompt_for_download\u001b[39m\u001b[38;5;124m\"\u001b[39m: \u001b[38;5;28;01mFalse\u001b[39;00m,\n\u001b[0;32m     11\u001b[0m         \u001b[38;5;124m\"\u001b[39m\u001b[38;5;124mplugins.always_open_pdf_externally\u001b[39m\u001b[38;5;124m\"\u001b[39m: \u001b[38;5;28;01mTrue\u001b[39;00m,\n\u001b[0;32m     12\u001b[0m         }\n\u001b[0;32m     14\u001b[0m ID \u001b[38;5;241m=\u001b[39m \u001b[38;5;28mid\u001b[39m\n",
      "\u001b[1;31mImportError\u001b[0m: cannot import name 'id' from 'key' (c:\\programs\\PBL_stock\\key.py)"
     ]
    }
   ],
   "source": [
    "from selenium import webdriver\n",
    "from selenium.webdriver.chrome.options import Options\n",
    "from selenium.webdriver.common.by import By\n",
    "\n",
    "import time\n",
    "from key import id, password\n",
    "\n",
    "prefs = {\n",
    "        \"download.default_directory\": \"C:\\\\Users\\\\MIRAI\\\\programs\\\\syllabus\\\\pdf\\\\\",\n",
    "        \"download.prompt_for_download\": False,\n",
    "        \"plugins.always_open_pdf_externally\": True,\n",
    "        }\n",
    "\n",
    "ID = id\n",
    "PASS = password"
   ]
  },
  {
   "cell_type": "code",
   "execution_count": 8,
   "metadata": {},
   "outputs": [],
   "source": [
    "options = Options()\n",
    "\n",
    "options.add_experimental_option(\"detach\", True)\n",
    "\n",
    "options.add_experimental_option(\"prefs\", prefs)\n",
    "\n",
    "driver = webdriver.Chrome(options=options)\n",
    "\n",
    "driver.get(\"https://webcit-5.edu.metro-cit.ac.jp/users/sign_in\")\n",
    "\n",
    "driver.find_element(By.NAME, \"user[name]\").send_keys(ID)\n",
    "driver.find_element(By.NAME, \"user[password]\").send_keys(PASS)\n",
    "\n",
    "driver.find_element(By.NAME, \"commit\").click()"
   ]
  },
  {
   "cell_type": "code",
   "execution_count": 5,
   "metadata": {},
   "outputs": [],
   "source": [
    "time.sleep(1)\n",
    "\n",
    "driver.execute_script(\"window.open('https://webcit-5.edu.metro-cit.ac.jp/gnumbers/33494/last_hyoukas');\")\n",
    "\n",
    "# 現在のウィンドウハンドルを取得\n",
    "original_window = driver.current_window_handle\n",
    "\n",
    "# 新しいタブまたはウィンドウに切り替え\n",
    "new_window = [window for window in driver.window_handles if window != original_window][0]\n",
    "driver.switch_to.window(new_window)"
   ]
  },
  {
   "cell_type": "code",
   "execution_count": 6,
   "metadata": {},
   "outputs": [],
   "source": [
    "rows = driver.find_elements(By.CSS_SELECTOR, \"table.bordered tr\")\n",
    "\n",
    "for row in rows:\n",
    "    cells = row.find_elements(By.CSS_SELECTOR, \"td\")\n",
    "    if cells:\n",
    "        last_cell = cells[-1]\n",
    "        if (last_cell.text != \"PDFファイルが作成させていません。\"):\n",
    "            # print(last_cell.text)\n",
    "            last_cell.click()"
   ]
  },
  {
   "cell_type": "code",
   "execution_count": 36,
   "metadata": {},
   "outputs": [],
   "source": [
    "import os\n",
    "from PyPDF2 import PdfReader, PdfWriter\n",
    "\n",
    "def merge_pdfs(directory, output_filename):\n",
    "    # PdfWriter オブジェクトの初期化\n",
    "    writer = PdfWriter()\n",
    "\n",
    "    # 指定されたディレクトリ内のファイルをループする\n",
    "    for item in sorted(os.listdir(directory)):\n",
    "        if item.endswith('.pdf'):\n",
    "            # PDFファイルを開く\n",
    "            filepath = os.path.join(directory, item)\n",
    "            reader = PdfReader(filepath)\n",
    "\n",
    "            # 各ページを書き込む\n",
    "            for page in reader.pages:\n",
    "                writer.add_page(page)\n",
    "\n",
    "    # 結合したPDFを保存\n",
    "    with open(output_filename, 'wb') as f:\n",
    "        writer.write(f)\n",
    "\n",
    "# 使用例\n",
    "directory = './pdf'\n",
    "output_filename = './output.pdf'\n",
    "merge_pdfs(directory, output_filename)"
   ]
  },
  {
   "cell_type": "code",
   "execution_count": null,
   "metadata": {},
   "outputs": [],
   "source": []
  }
 ],
 "metadata": {
  "kernelspec": {
   "display_name": "syllabus-yNspLzFI",
   "language": "python",
   "name": "python3"
  },
  "language_info": {
   "codemirror_mode": {
    "name": "ipython",
    "version": 3
   },
   "file_extension": ".py",
   "mimetype": "text/x-python",
   "name": "python",
   "nbconvert_exporter": "python",
   "pygments_lexer": "ipython3",
   "version": "3.11.7"
  }
 },
 "nbformat": 4,
 "nbformat_minor": 2
}
