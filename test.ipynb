{
 "cells": [
  {
   "cell_type": "code",
   "execution_count": 3,
   "metadata": {},
   "outputs": [],
   "source": [
    "import mysql.connector\n",
    "from dotenv import load_dotenv\n",
    "import os\n",
    "\n",
    "load_dotenv()\n",
    "DATABASE_URL = os.getenv(\"DATABASE_URL\")\n",
    "\n",
    "# MySQLデータベースに接続\n",
    "conn = mysql.connector.connect(\n",
    "    host=os.getenv(\"DB_HOST\", \"localhost\"),\n",
    "    user=os.getenv(\"DB_USER\", \"stock\"),\n",
    "    password=os.getenv(\"DB_PASSWORD\", \"ryotaro1212\"),\n",
    "    database=os.getenv(\"DB_NAME\", \"stock\")\n",
    ")\n",
    "\n",
    "cursor = conn.cursor()\n",
    "\n",
    "# 更新したいカラムのリスト\n",
    "columns = [\"SP_500\", \"vix\", \"NASDAQ\", 'NY_Dow', 'value']\n",
    "\n",
    "# 各カラムについて処理を行う\n",
    "for column in columns:\n",
    "    # NULL値を含む行を取得\n",
    "    cursor.execute(f\"SELECT id, {column} FROM stock_dataset WHERE {column} IS NULL\")\n",
    "    rows = cursor.fetchall()\n",
    "\n",
    "    for row in rows:\n",
    "        current_id = row[0]\n",
    "        \n",
    "        # 前の行の値を取得\n",
    "        cursor.execute(f\"SELECT {column} FROM stock_dataset WHERE id = %s\", (current_id - 1,))\n",
    "        previous_row = cursor.fetchone()\n",
    "        \n",
    "        if previous_row:\n",
    "            previous_value = previous_row[0]\n",
    "            \n",
    "            # NULL値を前の行の値で更新\n",
    "            cursor.execute(f\"UPDATE stock_dataset SET {column} = %s WHERE id = %s\", (previous_value, current_id))\n",
    "            conn.commit()\n",
    "\n",
    "# 接続を閉じる\n",
    "cursor.close()\n",
    "conn.close()\n"
   ]
  },
  {
   "cell_type": "code",
   "execution_count": null,
   "metadata": {},
   "outputs": [],
   "source": []
  }
 ],
 "metadata": {
  "kernelspec": {
   "display_name": "PBL_stock-8TYswje_",
   "language": "python",
   "name": "python3"
  },
  "language_info": {
   "codemirror_mode": {
    "name": "ipython",
    "version": 3
   },
   "file_extension": ".py",
   "mimetype": "text/x-python",
   "name": "python",
   "nbconvert_exporter": "python",
   "pygments_lexer": "ipython3",
   "version": "3.11.8"
  }
 },
 "nbformat": 4,
 "nbformat_minor": 2
}
