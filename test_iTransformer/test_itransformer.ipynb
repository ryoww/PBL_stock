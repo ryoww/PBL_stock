{
 "cells": [
  {
   "cell_type": "code",
   "execution_count": 1,
   "metadata": {},
   "outputs": [],
   "source": [
    "import numpy as np\n",
    "import pandas as pd\n",
    "from matplotlib import pyplot as plt\n",
    "\n",
    "from sklearn.model_selection import train_test_split\n",
    "from sklearn.metrics import mean_squared_error as mse, mean_absolute_error as mae, r2_score as r2_score\n",
    "\n",
    "import torch\n",
    "from torch import nn, optim\n",
    "from torch.utils.data import DataLoader\n",
    "from torchinfo import summary\n",
    "\n",
    "from iTransformer import iTransformer\n",
    "\n",
    "from tqdm import tqdm\n",
    "\n",
    "from datetime import datetime\n",
    "import os"
   ]
  },
  {
   "cell_type": "code",
   "execution_count": 2,
   "metadata": {},
   "outputs": [
    {
     "name": "stdout",
     "output_type": "stream",
     "text": [
      "cuda:0\n"
     ]
    }
   ],
   "source": [
    "device = torch.device(\"cuda:0\" if torch.cuda.is_available() else \"cpu\")\n",
    "print(device)"
   ]
  },
  {
   "cell_type": "code",
   "execution_count": 4,
   "metadata": {},
   "outputs": [
    {
     "data": {
      "text/plain": [
       "<bound method DataFrame.info of             cloud  wind  ave_tmp  max_tmp  min_tmp  rain\n",
       "2018-05-17    9.0   3.7     24.0     28.4     21.4   0.0\n",
       "2018-05-18    7.8   3.0     23.4     27.1     20.0   0.0\n",
       "2018-05-19    7.5   3.9     21.5     26.3     15.3   0.0\n",
       "2018-05-20    4.3   3.5     16.8     22.1     13.1   0.0\n",
       "2018-05-21   10.0   2.4     20.3     27.2     13.7   0.0\n",
       "...           ...   ...      ...      ...      ...   ...\n",
       "2023-05-13   10.0   3.0     16.7     18.1     15.4   5.0\n",
       "2023-05-14   10.0   3.6     16.9     21.2     14.3   3.0\n",
       "2023-05-15    9.8   2.0     16.1     18.1     14.6  15.5\n",
       "2023-05-16    2.8   2.6     19.9     27.5     13.1   0.0\n",
       "2023-05-17    0.0   2.3     22.8     31.6     15.1   0.0\n",
       "\n",
       "[1827 rows x 6 columns]>"
      ]
     },
     "execution_count": 4,
     "metadata": {},
     "output_type": "execute_result"
    }
   ],
   "source": [
    "file_path = \"./data/wether.csv\"\n",
    "\n",
    "if os.path.exists(file_path):\n",
    "    df = pd.read_csv(file_path, parse_dates=True, index_col=0)\n",
    "else:\n",
    "    url = \"https://raw.githubusercontent.com/aweglteo/tokyo_weather_data/main/data.csv\"\n",
    "    df = pd.read_csv(url, parse_dates=True, index_col=0)\n",
    "    df.to_csv(file_path)\n",
    "df.info"
   ]
  },
  {
   "cell_type": "code",
   "execution_count": 7,
   "metadata": {},
   "outputs": [
    {
     "name": "stdout",
     "output_type": "stream",
     "text": [
      "<class 'pandas.core.frame.DataFrame'>\n",
      "DatetimeIndex: 1827 entries, 2018-05-17 to 2023-05-17\n",
      "Data columns (total 6 columns):\n",
      " #   Column   Non-Null Count  Dtype  \n",
      "---  ------   --------------  -----  \n",
      " 0   cloud    1827 non-null   float64\n",
      " 1   wind     1827 non-null   float64\n",
      " 2   ave_tmp  1827 non-null   float64\n",
      " 3   max_tmp  1827 non-null   float64\n",
      " 4   min_tmp  1827 non-null   float64\n",
      " 5   rain     1827 non-null   float64\n",
      "dtypes: float64(6)\n",
      "memory usage: 99.9 KB\n"
     ]
    }
   ],
   "source": [
    "norm = lambda r: r / np.linalg.norm(r)\n",
    "data = pd.DataFrame({col: norm(df[col]) for col in ['cloud', 'wind', 'ave_tmp', 'max_tmp', 'min_tmp', 'rain']})\n",
    "data\n",
    "data.info()"
   ]
  },
  {
   "cell_type": "code",
   "execution_count": null,
   "metadata": {},
   "outputs": [],
   "source": [
    "df_train, df_test = train_test_split(data, test_size=0.3, shuffle=False)\n",
    "\n"
   ]
  }
 ],
 "metadata": {
  "kernelspec": {
   "display_name": "PBL_stock-HqIXwvyC",
   "language": "python",
   "name": "python3"
  },
  "language_info": {
   "codemirror_mode": {
    "name": "ipython",
    "version": 3
   },
   "file_extension": ".py",
   "mimetype": "text/x-python",
   "name": "python",
   "nbconvert_exporter": "python",
   "pygments_lexer": "ipython3",
   "version": "3.11.7"
  }
 },
 "nbformat": 4,
 "nbformat_minor": 2
}
